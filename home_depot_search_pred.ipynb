{
  "cells": [
    {
      "cell_type": "markdown",
      "metadata": {
        "id": "wMkHxN8IfbZT"
      },
      "source": [
        "# **A Deep Learning Approach to Predicting Product Search Relevance at Home Depot**"
      ]
    },
    {
      "cell_type": "markdown",
      "metadata": {
        "id": "rEb5-Pwag1YW"
      },
      "source": [
        "Based on the Kaggle link: https://www.kaggle.com/c/home-depot-product-search-relevance/data"
      ]
    },
    {
      "cell_type": "markdown",
      "metadata": {
        "id": "wuKTe1ZEg7e7"
      },
      "source": [
        "## **Introduction**"
      ]
    },
    {
      "cell_type": "markdown",
      "metadata": {
        "id": "_mxJ4l_Gg_LT"
      },
      "source": [
        "Leveraging the power of deep learning to enhance e-commerce search functionality, this report outlines our approach to the Home Depot product search relevance prediction challenge.<br>\n",
        "By employing Siamese Networks with Convolutional Neural Networks (CNNs), our method focuses on accurately pairing customer search terms with the most relevant product listings.<br>\n",
        "This model aims to predict relevance scores by deeply analyzing the nuances of textual data from search terms and product descriptions."
      ]
    },
    {
      "cell_type": "markdown",
      "metadata": {
        "id": "eAn8JKREfFSF"
      },
      "source": [
        "## **Download and import of packages**"
      ]
    },
    {
      "cell_type": "code",
      "execution_count": null,
      "metadata": {},
      "outputs": [
        {
          "name": "stdout",
          "output_type": "stream",
          "text": [
            "Requirement already satisfied: tqdm in c:\\users\\kathy\\appdata\\local\\programs\\python\\python310\\lib\\site-packages (4.66.1)\n",
            "Requirement already satisfied: colorama in c:\\users\\kathy\\appdata\\local\\programs\\python\\python310\\lib\\site-packages (from tqdm) (0.4.6)\n"
          ]
        }
      ],
      "source": [
        "# ! pip install gensim\n",
        "# ! pip install neptune\n",
        "# ! pip install pydot\n",
        "# ! pip install graphviz\n",
        "! pip install tqdm"
      ]
    },
    {
      "cell_type": "code",
      "execution_count": 1,
      "metadata": {
        "ExecuteTime": {
          "end_time": "2024-03-20T18:38:08.512793900Z",
          "start_time": "2024-03-20T18:37:29.510460200Z"
        },
        "execution": {
          "iopub.execute_input": "2024-03-14T15:55:06.198277Z",
          "iopub.status.busy": "2024-03-14T15:55:06.197881Z",
          "iopub.status.idle": "2024-03-14T15:55:26.260295Z",
          "shell.execute_reply": "2024-03-14T15:55:26.259485Z",
          "shell.execute_reply.started": "2024-03-14T15:55:06.198245Z"
        },
        "id": "RYhMEtgtfFSK",
        "trusted": true
      },
      "outputs": [
        {
          "name": "stderr",
          "output_type": "stream",
          "text": [
            "C:\\Users\\kathy\\AppData\\Local\\Temp\\ipykernel_53320\\1749481348.py:2: DeprecationWarning: \n",
            "Pyarrow will become a required dependency of pandas in the next major release of pandas (pandas 3.0),\n",
            "(to allow more performant data types, such as the Arrow string type, and better interoperability with other libraries)\n",
            "but was not found to be installed on your system.\n",
            "If this would cause problems for you,\n",
            "please provide us feedback at https://github.com/pandas-dev/pandas/issues/54466\n",
            "        \n",
            "  import pandas as pd\n"
          ]
        },
        {
          "name": "stdout",
          "output_type": "stream",
          "text": [
            "WARNING:tensorflow:From c:\\Users\\kathy\\AppData\\Local\\Programs\\Python\\Python310\\lib\\site-packages\\keras\\src\\losses.py:2976: The name tf.losses.sparse_softmax_cross_entropy is deprecated. Please use tf.compat.v1.losses.sparse_softmax_cross_entropy instead.\n",
            "\n"
          ]
        }
      ],
      "source": [
        "import math\n",
        "import pandas as pd\n",
        "import numpy as np\n",
        "import matplotlib.pyplot as plt\n",
        "from sklearn.metrics import mean_squared_error, mean_absolute_error\n",
        "from sklearn.model_selection import train_test_split\n",
        "from tensorflow.keras.preprocessing.text import Tokenizer\n",
        "from keras.preprocessing.sequence import pad_sequences\n",
        "from keras.metrics import MeanSquaredError, RootMeanSquaredError, MeanAbsoluteError\n",
        "import gensim\n",
        "import re\n",
        "import torch\n",
        "import torch.nn as nn\n",
        "import torch.nn.functional as F\n",
        "from torch.utils.data import DataLoader, TensorDataset, Dataset\n",
        "from nltk.corpus import stopwords\n",
        "from tensorflow.keras.models import Model\n",
        "from tensorflow.keras.layers import Input, Embedding, LSTM, Dense, concatenate, Dropout\n",
        "from tensorflow.keras.optimizers import Adam\n",
        "from tqdm import tqdm\n",
        "from math import sqrt\n",
        "import neptune\n",
        "import time\n",
        "from sklearn.feature_extraction.text import CountVectorizer\n",
        "from sklearn.neighbors import KNeighborsRegressor\n",
        "from tensorflow.keras.utils import plot_model"
      ]
    },
    {
      "cell_type": "code",
      "execution_count": 2,
      "metadata": {
        "colab": {
          "base_uri": "https://localhost:8080/"
        },
        "execution": {
          "iopub.execute_input": "2024-03-14T15:55:26.262240Z",
          "iopub.status.busy": "2024-03-14T15:55:26.261683Z",
          "iopub.status.idle": "2024-03-14T15:55:26.292108Z",
          "shell.execute_reply": "2024-03-14T15:55:26.291090Z",
          "shell.execute_reply.started": "2024-03-14T15:55:26.262213Z"
        },
        "id": "Ih36ZMGnfFSN",
        "outputId": "45a680ae-36b5-46e2-a818-2af23e823004",
        "trusted": true
      },
      "outputs": [
        {
          "data": {
            "text/plain": [
              "device(type='cpu')"
            ]
          },
          "execution_count": 2,
          "metadata": {},
          "output_type": "execute_result"
        }
      ],
      "source": [
        "# Set the device to gpu or cpu accordingly to availability.\n",
        "device = torch.device('cuda' if torch.cuda.is_available() else 'cpu')\n",
        "device"
      ]
    },
    {
      "cell_type": "markdown",
      "metadata": {
        "id": "MPm3nFlpfFSO"
      },
      "source": [
        "## **Loading the data**\n",
        "- train.csv and test.csv require ISO-8859-1 encoding and not default UTF-8 because of special characters.\n",
        "- solutions.csv contains public/private/ignored scores, where ignored relevances are -1, we will filter those.\n",
        "- Join product descriptions to train and test by product_uid.\n",
        "- the work explictly says to use search_term and product_description as inputs, so we will drop product_title.<br>\n",
        "though, a possible preprocess improvement would be to concatenate the title and description."
      ]
    },
    {
      "cell_type": "code",
      "execution_count": 115,
      "metadata": {},
      "outputs": [
        {
          "name": "stdout",
          "output_type": "stream",
          "text": [
            "Loading finished\n"
          ]
        }
      ],
      "source": [
        "# Load the data\n",
        "product_des = pd.read_csv('home-depot-product-search-relevance/data/product_descriptions.csv')\n",
        "train = pd.read_csv('home-depot-product-search-relevance/data/train.csv', encoding='ISO-8859-1')\n",
        "test = pd.read_csv('home-depot-product-search-relevance/data/test.csv', encoding='ISO-8859-1')\n",
        "test_sol = pd.read_csv('home-depot-product-search-relevance/data/solution.csv')\n",
        "print(\"Loading finished\")"
      ]
    },
    {
      "cell_type": "code",
      "execution_count": 116,
      "metadata": {},
      "outputs": [],
      "source": [
        "# Create the dataframes\n",
        "train = train.drop(['product_title'], axis=1)\n",
        "train = train.merge(product_des, on='product_uid', how='left')\n",
        "\n",
        "test_sol = test_sol[test_sol['relevance']!=-1]\n",
        "test_sol = test_sol.drop(['Usage'], axis=1)\n",
        "\n",
        "test = test.drop(['product_title'], axis=1)\n",
        "test = test.merge(product_des, on='product_uid', how='left')\n",
        "test = test_sol.merge(test, on='id', how='left')"
      ]
    },
    {
      "cell_type": "code",
      "execution_count": 6,
      "metadata": {},
      "outputs": [
        {
          "data": {
            "text/html": [
              "<div>\n",
              "<style scoped>\n",
              "    .dataframe tbody tr th:only-of-type {\n",
              "        vertical-align: middle;\n",
              "    }\n",
              "\n",
              "    .dataframe tbody tr th {\n",
              "        vertical-align: top;\n",
              "    }\n",
              "\n",
              "    .dataframe thead th {\n",
              "        text-align: right;\n",
              "    }\n",
              "</style>\n",
              "<table border=\"1\" class=\"dataframe\">\n",
              "  <thead>\n",
              "    <tr style=\"text-align: right;\">\n",
              "      <th></th>\n",
              "      <th>id</th>\n",
              "      <th>relevance</th>\n",
              "      <th>product_uid</th>\n",
              "      <th>search_term</th>\n",
              "      <th>product_description</th>\n",
              "    </tr>\n",
              "  </thead>\n",
              "  <tbody>\n",
              "    <tr>\n",
              "      <th>0</th>\n",
              "      <td>4</td>\n",
              "      <td>2.33</td>\n",
              "      <td>100001</td>\n",
              "      <td>metal l brackets</td>\n",
              "      <td>Not only do angles make joints stronger, they ...</td>\n",
              "    </tr>\n",
              "    <tr>\n",
              "      <th>1</th>\n",
              "      <td>5</td>\n",
              "      <td>2.33</td>\n",
              "      <td>100001</td>\n",
              "      <td>simpson sku able</td>\n",
              "      <td>Not only do angles make joints stronger, they ...</td>\n",
              "    </tr>\n",
              "    <tr>\n",
              "      <th>2</th>\n",
              "      <td>6</td>\n",
              "      <td>2.67</td>\n",
              "      <td>100001</td>\n",
              "      <td>simpson strong  ties</td>\n",
              "      <td>Not only do angles make joints stronger, they ...</td>\n",
              "    </tr>\n",
              "    <tr>\n",
              "      <th>3</th>\n",
              "      <td>7</td>\n",
              "      <td>2.00</td>\n",
              "      <td>100001</td>\n",
              "      <td>simpson strong tie hcc668</td>\n",
              "      <td>Not only do angles make joints stronger, they ...</td>\n",
              "    </tr>\n",
              "    <tr>\n",
              "      <th>4</th>\n",
              "      <td>10</td>\n",
              "      <td>2.67</td>\n",
              "      <td>100003</td>\n",
              "      <td>bath and shower kit</td>\n",
              "      <td>Classic architecture meets contemporary design...</td>\n",
              "    </tr>\n",
              "    <tr>\n",
              "      <th>...</th>\n",
              "      <td>...</td>\n",
              "      <td>...</td>\n",
              "      <td>...</td>\n",
              "      <td>...</td>\n",
              "      <td>...</td>\n",
              "    </tr>\n",
              "    <tr>\n",
              "      <th>112062</th>\n",
              "      <td>221467</td>\n",
              "      <td>2.33</td>\n",
              "      <td>206644</td>\n",
              "      <td>roof nailing gun</td>\n",
              "      <td>The CN445R2 is the latest version of the MAX S...</td>\n",
              "    </tr>\n",
              "    <tr>\n",
              "      <th>112063</th>\n",
              "      <td>221468</td>\n",
              "      <td>1.00</td>\n",
              "      <td>206645</td>\n",
              "      <td>kitchen pro grout</td>\n",
              "      <td>The GROHE Ladylux 3 Pro Single-Handle Pull-Out...</td>\n",
              "    </tr>\n",
              "    <tr>\n",
              "      <th>112064</th>\n",
              "      <td>221469</td>\n",
              "      <td>2.67</td>\n",
              "      <td>206646</td>\n",
              "      <td>tilekit 30 x 60 wall bone</td>\n",
              "      <td>The Tile Kit bathtub wall set has a tile-like ...</td>\n",
              "    </tr>\n",
              "    <tr>\n",
              "      <th>112065</th>\n",
              "      <td>221470</td>\n",
              "      <td>1.00</td>\n",
              "      <td>206647</td>\n",
              "      <td>light switchvers for little girls</td>\n",
              "      <td>Your daughter will be a queen ready to cast he...</td>\n",
              "    </tr>\n",
              "    <tr>\n",
              "      <th>112066</th>\n",
              "      <td>221472</td>\n",
              "      <td>2.33</td>\n",
              "      <td>206649</td>\n",
              "      <td>garden pots colared</td>\n",
              "      <td>The 11.5 in. Sharazad Egg Pot is a great addit...</td>\n",
              "    </tr>\n",
              "  </tbody>\n",
              "</table>\n",
              "<p>112067 rows × 5 columns</p>\n",
              "</div>"
            ],
            "text/plain": [
              "            id  relevance  product_uid                        search_term  \\\n",
              "0            4       2.33       100001                   metal l brackets   \n",
              "1            5       2.33       100001                   simpson sku able   \n",
              "2            6       2.67       100001               simpson strong  ties   \n",
              "3            7       2.00       100001          simpson strong tie hcc668   \n",
              "4           10       2.67       100003                bath and shower kit   \n",
              "...        ...        ...          ...                                ...   \n",
              "112062  221467       2.33       206644                   roof nailing gun   \n",
              "112063  221468       1.00       206645                  kitchen pro grout   \n",
              "112064  221469       2.67       206646          tilekit 30 x 60 wall bone   \n",
              "112065  221470       1.00       206647  light switchvers for little girls   \n",
              "112066  221472       2.33       206649                garden pots colared   \n",
              "\n",
              "                                      product_description  \n",
              "0       Not only do angles make joints stronger, they ...  \n",
              "1       Not only do angles make joints stronger, they ...  \n",
              "2       Not only do angles make joints stronger, they ...  \n",
              "3       Not only do angles make joints stronger, they ...  \n",
              "4       Classic architecture meets contemporary design...  \n",
              "...                                                   ...  \n",
              "112062  The CN445R2 is the latest version of the MAX S...  \n",
              "112063  The GROHE Ladylux 3 Pro Single-Handle Pull-Out...  \n",
              "112064  The Tile Kit bathtub wall set has a tile-like ...  \n",
              "112065  Your daughter will be a queen ready to cast he...  \n",
              "112066  The 11.5 in. Sharazad Egg Pot is a great addit...  \n",
              "\n",
              "[112067 rows x 5 columns]"
            ]
          },
          "execution_count": 6,
          "metadata": {},
          "output_type": "execute_result"
        }
      ],
      "source": [
        "test"
      ]
    },
    {
      "cell_type": "code",
      "execution_count": 97,
      "metadata": {},
      "outputs": [
        {
          "data": {
            "text/html": [
              "<div>\n",
              "<style scoped>\n",
              "    .dataframe tbody tr th:only-of-type {\n",
              "        vertical-align: middle;\n",
              "    }\n",
              "\n",
              "    .dataframe tbody tr th {\n",
              "        vertical-align: top;\n",
              "    }\n",
              "\n",
              "    .dataframe thead th {\n",
              "        text-align: right;\n",
              "    }\n",
              "</style>\n",
              "<table border=\"1\" class=\"dataframe\">\n",
              "  <thead>\n",
              "    <tr style=\"text-align: right;\">\n",
              "      <th></th>\n",
              "      <th>id</th>\n",
              "      <th>product_uid</th>\n",
              "      <th>search_term</th>\n",
              "      <th>relevance</th>\n",
              "      <th>product_description</th>\n",
              "    </tr>\n",
              "  </thead>\n",
              "  <tbody>\n",
              "    <tr>\n",
              "      <th>0</th>\n",
              "      <td>2</td>\n",
              "      <td>100001</td>\n",
              "      <td>angle bracket</td>\n",
              "      <td>3.00</td>\n",
              "      <td>Not only do angles make joints stronger, they ...</td>\n",
              "    </tr>\n",
              "    <tr>\n",
              "      <th>1</th>\n",
              "      <td>3</td>\n",
              "      <td>100001</td>\n",
              "      <td>l bracket</td>\n",
              "      <td>2.50</td>\n",
              "      <td>Not only do angles make joints stronger, they ...</td>\n",
              "    </tr>\n",
              "    <tr>\n",
              "      <th>2</th>\n",
              "      <td>9</td>\n",
              "      <td>100002</td>\n",
              "      <td>deck over</td>\n",
              "      <td>3.00</td>\n",
              "      <td>BEHR Premium Textured DECKOVER is an innovativ...</td>\n",
              "    </tr>\n",
              "    <tr>\n",
              "      <th>3</th>\n",
              "      <td>16</td>\n",
              "      <td>100005</td>\n",
              "      <td>rain shower head</td>\n",
              "      <td>2.33</td>\n",
              "      <td>Update your bathroom with the Delta Vero Singl...</td>\n",
              "    </tr>\n",
              "    <tr>\n",
              "      <th>4</th>\n",
              "      <td>17</td>\n",
              "      <td>100005</td>\n",
              "      <td>shower only faucet</td>\n",
              "      <td>2.67</td>\n",
              "      <td>Update your bathroom with the Delta Vero Singl...</td>\n",
              "    </tr>\n",
              "    <tr>\n",
              "      <th>...</th>\n",
              "      <td>...</td>\n",
              "      <td>...</td>\n",
              "      <td>...</td>\n",
              "      <td>...</td>\n",
              "      <td>...</td>\n",
              "    </tr>\n",
              "    <tr>\n",
              "      <th>74062</th>\n",
              "      <td>221457</td>\n",
              "      <td>206638</td>\n",
              "      <td>tv riser glass</td>\n",
              "      <td>1.00</td>\n",
              "      <td>Atlantic, Inc. 94835722 Uniquely designed for ...</td>\n",
              "    </tr>\n",
              "    <tr>\n",
              "      <th>74063</th>\n",
              "      <td>221458</td>\n",
              "      <td>206639</td>\n",
              "      <td>r20 halogen light</td>\n",
              "      <td>3.00</td>\n",
              "      <td>Philips Energy Advantage lamps use less energy...</td>\n",
              "    </tr>\n",
              "    <tr>\n",
              "      <th>74064</th>\n",
              "      <td>221463</td>\n",
              "      <td>206641</td>\n",
              "      <td>schlage lock siena half dummy knob with</td>\n",
              "      <td>2.33</td>\n",
              "      <td>The Schlage Camelot In-Active Aged Bronze Hand...</td>\n",
              "    </tr>\n",
              "    <tr>\n",
              "      <th>74065</th>\n",
              "      <td>221471</td>\n",
              "      <td>206648</td>\n",
              "      <td>zen garden  decor</td>\n",
              "      <td>3.00</td>\n",
              "      <td>The Rose Garden is inspired by the popular ear...</td>\n",
              "    </tr>\n",
              "    <tr>\n",
              "      <th>74066</th>\n",
              "      <td>221473</td>\n",
              "      <td>206650</td>\n",
              "      <td>fine sheer curtain 63 inches</td>\n",
              "      <td>2.33</td>\n",
              "      <td>No. 918 Millennial Ryan heathered texture semi...</td>\n",
              "    </tr>\n",
              "  </tbody>\n",
              "</table>\n",
              "<p>74067 rows × 5 columns</p>\n",
              "</div>"
            ],
            "text/plain": [
              "           id  product_uid                              search_term  \\\n",
              "0           2       100001                            angle bracket   \n",
              "1           3       100001                                l bracket   \n",
              "2           9       100002                                deck over   \n",
              "3          16       100005                         rain shower head   \n",
              "4          17       100005                       shower only faucet   \n",
              "...       ...          ...                                      ...   \n",
              "74062  221457       206638                           tv riser glass   \n",
              "74063  221458       206639                        r20 halogen light   \n",
              "74064  221463       206641  schlage lock siena half dummy knob with   \n",
              "74065  221471       206648                        zen garden  decor   \n",
              "74066  221473       206650             fine sheer curtain 63 inches   \n",
              "\n",
              "       relevance                                product_description  \n",
              "0           3.00  Not only do angles make joints stronger, they ...  \n",
              "1           2.50  Not only do angles make joints stronger, they ...  \n",
              "2           3.00  BEHR Premium Textured DECKOVER is an innovativ...  \n",
              "3           2.33  Update your bathroom with the Delta Vero Singl...  \n",
              "4           2.67  Update your bathroom with the Delta Vero Singl...  \n",
              "...          ...                                                ...  \n",
              "74062       1.00  Atlantic, Inc. 94835722 Uniquely designed for ...  \n",
              "74063       3.00  Philips Energy Advantage lamps use less energy...  \n",
              "74064       2.33  The Schlage Camelot In-Active Aged Bronze Hand...  \n",
              "74065       3.00  The Rose Garden is inspired by the popular ear...  \n",
              "74066       2.33  No. 918 Millennial Ryan heathered texture semi...  \n",
              "\n",
              "[74067 rows x 5 columns]"
            ]
          },
          "execution_count": 97,
          "metadata": {},
          "output_type": "execute_result"
        }
      ],
      "source": [
        "train"
      ]
    },
    {
      "cell_type": "markdown",
      "metadata": {},
      "source": [
        "Extract the labels"
      ]
    },
    {
      "cell_type": "code",
      "execution_count": 117,
      "metadata": {
        "colab": {
          "base_uri": "https://localhost:8080/",
          "height": 217
        },
        "execution": {
          "iopub.execute_input": "2024-03-14T20:36:49.851196Z",
          "iopub.status.busy": "2024-03-14T20:36:49.850375Z",
          "iopub.status.idle": "2024-03-14T20:36:51.318311Z",
          "shell.execute_reply": "2024-03-14T20:36:51.317321Z",
          "shell.execute_reply.started": "2024-03-14T20:36:49.851134Z"
        },
        "id": "ggOnS6HgfFSP",
        "outputId": "d6063e97-b2de-4ff9-f939-a33c6dd5d8ed",
        "trusted": true
      },
      "outputs": [
        {
          "data": {
            "text/plain": [
              "0         2.33\n",
              "1         2.33\n",
              "2         2.67\n",
              "3         2.00\n",
              "4         2.67\n",
              "          ... \n",
              "112062    2.33\n",
              "112063    1.00\n",
              "112064    2.67\n",
              "112065    1.00\n",
              "112066    2.33\n",
              "Name: relevance, Length: 112067, dtype: float64"
            ]
          },
          "execution_count": 117,
          "metadata": {},
          "output_type": "execute_result"
        }
      ],
      "source": [
        "labels_train = train['relevance']\n",
        "labels_test = test['relevance']\n",
        "\n",
        "labels_test"
      ]
    },
    {
      "cell_type": "markdown",
      "metadata": {},
      "source": [
        "## **Exploratory Data Analysis**"
      ]
    },
    {
      "cell_type": "markdown",
      "metadata": {},
      "source": [
        "Data exploration is an important step towards a solution to the problem."
      ]
    },
    {
      "cell_type": "markdown",
      "metadata": {},
      "source": [
        "**Data size**"
      ]
    },
    {
      "cell_type": "code",
      "execution_count": 119,
      "metadata": {},
      "outputs": [
        {
          "name": "stdout",
          "output_type": "stream",
          "text": [
            "Train number of records: 74067\n",
            "Test number of records: 112067\n"
          ]
        }
      ],
      "source": [
        "print('Train number of records: ' + str(train.shape[0]))\n",
        "print('Test number of records: ' + str(test.shape[0]))"
      ]
    },
    {
      "cell_type": "markdown",
      "metadata": {
        "id": "G3AIJcW8fFSP"
      },
      "source": [
        "**Looking at samples**"
      ]
    },
    {
      "cell_type": "code",
      "execution_count": 32,
      "metadata": {
        "execution": {
          "iopub.execute_input": "2024-03-14T15:55:37.611170Z",
          "iopub.status.busy": "2024-03-14T15:55:37.610404Z",
          "iopub.status.idle": "2024-03-14T15:55:37.618367Z",
          "shell.execute_reply": "2024-03-14T15:55:37.617513Z",
          "shell.execute_reply.started": "2024-03-14T15:55:37.611121Z"
        },
        "id": "fWemeqbmfFSP",
        "outputId": "1553d7eb-8bda-4b8f-b39c-1e17d8018e83",
        "trusted": true
      },
      "outputs": [
        {
          "data": {
            "text/plain": [
              "0                          angle bracket\n",
              "1                              l bracket\n",
              "2                              deck over\n",
              "3                       rain shower head\n",
              "4                     shower only faucet\n",
              "5                         convection otr\n",
              "6                   microwave over stove\n",
              "7                             microwaves\n",
              "8                        emergency light\n",
              "9                                mdf 3/4\n",
              "10                          steele stake\n",
              "11        briggs and stratton lawn mower\n",
              "12                              gas mowe\n",
              "13                           honda mower\n",
              "14    hampton bay chestnut pull up shade\n",
              "15                              disposer\n",
              "16                          grill gazebo\n",
              "17                           door guards\n",
              "18                metal plate cover gcfi\n",
              "19                        radiator grate\n",
              "Name: search_term, dtype: object"
            ]
          },
          "execution_count": 32,
          "metadata": {},
          "output_type": "execute_result"
        }
      ],
      "source": [
        "train['search_term'].head(20)"
      ]
    },
    {
      "cell_type": "markdown",
      "metadata": {
        "id": "MPLWDAo9fFSQ"
      },
      "source": [
        "We can see that search terms are relativly only a few words, including just characters.<br>\n",
        "They contain stop words, numbers, and sizes like 3/4,inches etc."
      ]
    },
    {
      "cell_type": "code",
      "execution_count": 33,
      "metadata": {
        "execution": {
          "iopub.execute_input": "2024-03-14T15:55:40.591394Z",
          "iopub.status.busy": "2024-03-14T15:55:40.590786Z",
          "iopub.status.idle": "2024-03-14T15:55:40.598704Z",
          "shell.execute_reply": "2024-03-14T15:55:40.597812Z",
          "shell.execute_reply.started": "2024-03-14T15:55:40.591359Z"
        },
        "id": "jk0Z6TRGfFST",
        "outputId": "b8d3b53e-4c89-4855-ab46-8613d2e4ddd6",
        "trusted": true
      },
      "outputs": [
        {
          "data": {
            "text/plain": [
              "0     Not only do angles make joints stronger, they ...\n",
              "1     Not only do angles make joints stronger, they ...\n",
              "2     BEHR Premium Textured DECKOVER is an innovativ...\n",
              "3     Update your bathroom with the Delta Vero Singl...\n",
              "4     Update your bathroom with the Delta Vero Singl...\n",
              "5     Achieving delicious results is almost effortle...\n",
              "6     Achieving delicious results is almost effortle...\n",
              "7     Achieving delicious results is almost effortle...\n",
              "8     The Quantum Adjustable 2-Light LED Black Emerg...\n",
              "9     Get the House of Fara 3/4 in. x 3 in. x 8 ft. ...\n",
              "10    Valley View Industries Metal Stakes (4-Pack) a...\n",
              "11    Recycler 22 in. Personal Pace Variable Speed S...\n",
              "12    Recycler 22 in. Personal Pace Variable Speed S...\n",
              "13    Recycler 22 in. Personal Pace Variable Speed S...\n",
              "14    The 96 in. wide Caramel Simple Weave Rollup Ba...\n",
              "15    The InSinkErator SinkTop Switch Single Outlet ...\n",
              "16    Make grilling great with this handsome and fun...\n",
              "17    The MD Building Products 36 in. x 36 in. x 1/5...\n",
              "18    The MD Building Products 36 in. x 36 in. x 1/5...\n",
              "19    The MD Building Products 36 in. x 36 in. x 1/5...\n",
              "Name: product_description, dtype: object"
            ]
          },
          "execution_count": 33,
          "metadata": {},
          "output_type": "execute_result"
        }
      ],
      "source": [
        "train['product_description'].head(20)"
      ]
    },
    {
      "cell_type": "markdown",
      "metadata": {
        "id": "9VRFnucQfFSU"
      },
      "source": [
        "The product descriptions are complicated and a lot longer then search terms.<br>\n",
        "They contain different measurnment types in different formats,some parantheses and special characters."
      ]
    },
    {
      "cell_type": "code",
      "execution_count": 34,
      "metadata": {
        "execution": {
          "iopub.execute_input": "2024-03-14T15:55:43.478955Z",
          "iopub.status.busy": "2024-03-14T15:55:43.478584Z",
          "iopub.status.idle": "2024-03-14T15:55:43.488927Z",
          "shell.execute_reply": "2024-03-14T15:55:43.487946Z",
          "shell.execute_reply.started": "2024-03-14T15:55:43.478924Z"
        },
        "id": "I_r8MAInfFSU",
        "outputId": "68f6329f-292f-4b14-9b9a-3e500f8d7f34",
        "trusted": true
      },
      "outputs": [
        {
          "data": {
            "text/plain": [
              "relevance\n",
              "3.00    19125\n",
              "2.33    16060\n",
              "2.67    15202\n",
              "2.00    11730\n",
              "1.67     6780\n",
              "1.33     3006\n",
              "1.00     2105\n",
              "2.50       19\n",
              "2.75       11\n",
              "2.25       11\n",
              "1.75        9\n",
              "1.50        5\n",
              "1.25        4\n",
              "Name: count, dtype: int64"
            ]
          },
          "execution_count": 34,
          "metadata": {},
          "output_type": "execute_result"
        }
      ],
      "source": [
        "train['relevance'].value_counts()"
      ]
    },
    {
      "cell_type": "markdown",
      "metadata": {
        "id": "bADvm1M_fFSV"
      },
      "source": [
        "Looking at our target label, the very high imbalance is clear to see.<br>\n",
        "Also, it seems like the relevance score can be treated as a classficiation problem and not regression, as there are only 13 unique labels.<br>"
      ]
    },
    {
      "cell_type": "markdown",
      "metadata": {},
      "source": [
        "**Data distribution**"
      ]
    },
    {
      "cell_type": "markdown",
      "metadata": {},
      "source": [
        "Check the distribution and spread of the relevance, because Relevance is our label column"
      ]
    },
    {
      "cell_type": "code",
      "execution_count": 9,
      "metadata": {},
      "outputs": [
        {
          "data": {
            "text/plain": [
              "<Axes: >"
            ]
          },
          "execution_count": 9,
          "metadata": {},
          "output_type": "execute_result"
        },
        {
          "data": {
            "image/png": "[encoded data removed]",
            "text/plain": [
              "<Figure size 640x480 with 1 Axes>"
            ]
          },
          "metadata": {},
          "output_type": "display_data"
        }
      ],
      "source": [
        "train.relevance.hist()"
      ]
    },
    {
      "cell_type": "markdown",
      "metadata": {},
      "source": [
        "* We can see that the majority of the search relevancy are above 2."
      ]
    },
    {
      "cell_type": "markdown",
      "metadata": {},
      "source": [
        "Search query word length distribution:"
      ]
    },
    {
      "cell_type": "code",
      "execution_count": 10,
      "metadata": {},
      "outputs": [
        {
          "data": {
            "text/plain": [
              "<Axes: >"
            ]
          },
          "execution_count": 10,
          "metadata": {},
          "output_type": "execute_result"
        },
        {
          "data": {
            "image/png": "[encoded data removed]",
            "text/plain": [
              "<Figure size 640x480 with 1 Axes>"
            ]
          },
          "metadata": {},
          "output_type": "display_data"
        }
      ],
      "source": [
        "(train.search_term.str.count(\"\\\\s+\") + 1).hist(bins=30)"
      ]
    },
    {
      "cell_type": "markdown",
      "metadata": {},
      "source": [
        "How many search query there is for each product:"
      ]
    },
    {
      "cell_type": "code",
      "execution_count": 11,
      "metadata": {},
      "outputs": [
        {
          "name": "stdout",
          "output_type": "stream",
          "text": [
            "       num_of_product_uids  counts\n",
            "0                   102893      21\n",
            "1                   101959      21\n",
            "2                   101892      18\n",
            "4                   101539      17\n",
            "5                   104691      17\n",
            "...                    ...     ...\n",
            "26156               188925       1\n",
            "26157               194924       1\n",
            "26158               188926       1\n",
            "26159               188927       1\n",
            "54666               206650       1\n",
            "\n",
            "[54667 rows x 2 columns]\n"
          ]
        }
      ],
      "source": [
        "# Count the occurrences of each unique 'product_uid'\n",
        "product_uid_counts = train['product_uid'].value_counts()\n",
        "\n",
        "# Counting how many product_uid have each unique count\n",
        "count_distribution_df  = product_uid_counts.reset_index()\n",
        "\n",
        "count_distribution_df.columns = ['num_of_product_uids', 'counts']  # Naming the columns explicitly\n",
        "df_counts_sorted_asc = count_distribution_df.sort_values(by='counts', ascending=False)\n",
        "\n",
        "print(df_counts_sorted_asc)"
      ]
    },
    {
      "cell_type": "markdown",
      "metadata": {},
      "source": [
        "Distribution of products by number of samples:"
      ]
    },
    {
      "cell_type": "code",
      "execution_count": 12,
      "metadata": {},
      "outputs": [
        {
          "data": {
            "image/png": "[encoded data removed]",
            "text/plain": [
              "<Figure size 1000x600 with 1 Axes>"
            ]
          },
          "metadata": {},
          "output_type": "display_data"
        },
        {
          "data": {
            "text/html": [
              "<div>\n",
              "<style scoped>\n",
              "    .dataframe tbody tr th:only-of-type {\n",
              "        vertical-align: middle;\n",
              "    }\n",
              "\n",
              "    .dataframe tbody tr th {\n",
              "        vertical-align: top;\n",
              "    }\n",
              "\n",
              "    .dataframe thead th {\n",
              "        text-align: right;\n",
              "    }\n",
              "</style>\n",
              "<table border=\"1\" class=\"dataframe\">\n",
              "  <thead>\n",
              "    <tr style=\"text-align: right;\">\n",
              "      <th></th>\n",
              "      <th>Number of Samples</th>\n",
              "      <th>Amount of Products</th>\n",
              "    </tr>\n",
              "  </thead>\n",
              "  <tbody>\n",
              "    <tr>\n",
              "      <th>0</th>\n",
              "      <td>1</td>\n",
              "      <td>42765</td>\n",
              "    </tr>\n",
              "    <tr>\n",
              "      <th>1</th>\n",
              "      <td>2</td>\n",
              "      <td>7824</td>\n",
              "    </tr>\n",
              "    <tr>\n",
              "      <th>2</th>\n",
              "      <td>3</td>\n",
              "      <td>2385</td>\n",
              "    </tr>\n",
              "    <tr>\n",
              "      <th>3</th>\n",
              "      <td>4</td>\n",
              "      <td>909</td>\n",
              "    </tr>\n",
              "    <tr>\n",
              "      <th>4</th>\n",
              "      <td>5</td>\n",
              "      <td>386</td>\n",
              "    </tr>\n",
              "    <tr>\n",
              "      <th>5</th>\n",
              "      <td>6</td>\n",
              "      <td>190</td>\n",
              "    </tr>\n",
              "    <tr>\n",
              "      <th>6</th>\n",
              "      <td>7</td>\n",
              "      <td>95</td>\n",
              "    </tr>\n",
              "    <tr>\n",
              "      <th>7</th>\n",
              "      <td>8</td>\n",
              "      <td>45</td>\n",
              "    </tr>\n",
              "    <tr>\n",
              "      <th>8</th>\n",
              "      <td>9</td>\n",
              "      <td>27</td>\n",
              "    </tr>\n",
              "    <tr>\n",
              "      <th>9</th>\n",
              "      <td>10</td>\n",
              "      <td>13</td>\n",
              "    </tr>\n",
              "    <tr>\n",
              "      <th>10</th>\n",
              "      <td>11</td>\n",
              "      <td>4</td>\n",
              "    </tr>\n",
              "    <tr>\n",
              "      <th>11</th>\n",
              "      <td>12</td>\n",
              "      <td>4</td>\n",
              "    </tr>\n",
              "    <tr>\n",
              "      <th>12</th>\n",
              "      <td>13</td>\n",
              "      <td>5</td>\n",
              "    </tr>\n",
              "    <tr>\n",
              "      <th>13</th>\n",
              "      <td>14</td>\n",
              "      <td>8</td>\n",
              "    </tr>\n",
              "    <tr>\n",
              "      <th>14</th>\n",
              "      <td>15</td>\n",
              "      <td>1</td>\n",
              "    </tr>\n",
              "    <tr>\n",
              "      <th>15</th>\n",
              "      <td>17</td>\n",
              "      <td>3</td>\n",
              "    </tr>\n",
              "    <tr>\n",
              "      <th>16</th>\n",
              "      <td>18</td>\n",
              "      <td>1</td>\n",
              "    </tr>\n",
              "    <tr>\n",
              "      <th>17</th>\n",
              "      <td>21</td>\n",
              "      <td>2</td>\n",
              "    </tr>\n",
              "  </tbody>\n",
              "</table>\n",
              "</div>"
            ],
            "text/plain": [
              "    Number of Samples  Amount of Products\n",
              "0                   1               42765\n",
              "1                   2                7824\n",
              "2                   3                2385\n",
              "3                   4                 909\n",
              "4                   5                 386\n",
              "5                   6                 190\n",
              "6                   7                  95\n",
              "7                   8                  45\n",
              "8                   9                  27\n",
              "9                  10                  13\n",
              "10                 11                   4\n",
              "11                 12                   4\n",
              "12                 13                   5\n",
              "13                 14                   8\n",
              "14                 15                   1\n",
              "15                 17                   3\n",
              "16                 18                   1\n",
              "17                 21                   2"
            ]
          },
          "execution_count": 12,
          "metadata": {},
          "output_type": "execute_result"
        }
      ],
      "source": [
        "# Simulating the DataFrame from the user's print statement\n",
        "df_counts_sorted_asc = pd.DataFrame(df_counts_sorted_asc)\n",
        "\n",
        "# Counting how many product_uids have each unique 'counts' value\n",
        "samples_count_distribution = df_counts_sorted_asc['counts'].value_counts().sort_index()\n",
        "\n",
        "# Converting to DataFrame for plotting\n",
        "samples_count_distribution_df = samples_count_distribution.reset_index()\n",
        "samples_count_distribution_df.columns = ['Number of Samples', 'Amount of Products']\n",
        "\n",
        "# Plotting the distribution as a linear graph instead of a bar chart\n",
        "plt.figure(figsize=(10, 6))\n",
        "plt.plot(samples_count_distribution_df['Number of Samples'], samples_count_distribution_df['Amount of Products'], marker='o')\n",
        "plt.title('Distribution of Products by Number of Samples (Linear Graph)')\n",
        "plt.xlabel('Number of Samples')\n",
        "plt.ylabel('Amount of Products')\n",
        "plt.grid(True)\n",
        "plt.show()\n",
        "\n",
        "samples_count_distribution_df"
      ]
    },
    {
      "cell_type": "markdown",
      "metadata": {},
      "source": [
        "* We can see that for the majority of item there is only 1 search query."
      ]
    },
    {
      "cell_type": "markdown",
      "metadata": {},
      "source": [
        "Based on the distribution of product sample counts in the dataset, here are some conclusions:\n",
        "1. Most products have very few samples, indicating infrequent searches.\n",
        "2. A rapid decline in product counts as sample numbers increase shows that frequently searched products are rare.\n",
        "3. A few products have many samples, suggesting they are significantly more popular or visible.\n",
        "4. This skewness can inform targeted strategies in marketing and inventory management."
      ]
    },
    {
      "cell_type": "markdown",
      "metadata": {},
      "source": [
        "**Check missing values**"
      ]
    },
    {
      "cell_type": "code",
      "execution_count": 13,
      "metadata": {},
      "outputs": [
        {
          "name": "stdout",
          "output_type": "stream",
          "text": [
            "Check missing values for train:\n",
            "<class 'pandas.core.frame.DataFrame'>\n",
            "RangeIndex: 74067 entries, 0 to 74066\n",
            "Data columns (total 5 columns):\n",
            " #   Column               Non-Null Count  Dtype  \n",
            "---  ------               --------------  -----  \n",
            " 0   id                   74067 non-null  int64  \n",
            " 1   product_uid          74067 non-null  int64  \n",
            " 2   search_term          74067 non-null  object \n",
            " 3   relevance            74067 non-null  float64\n",
            " 4   product_description  74067 non-null  object \n",
            "dtypes: float64(1), int64(2), object(2)\n",
            "memory usage: 2.8+ MB\n",
            "None\n",
            "\n",
            "----------------------------------------------\n",
            "\n",
            "Check missing values for test:\n",
            "<class 'pandas.core.frame.DataFrame'>\n",
            "RangeIndex: 112067 entries, 0 to 112066\n",
            "Data columns (total 5 columns):\n",
            " #   Column               Non-Null Count   Dtype  \n",
            "---  ------               --------------   -----  \n",
            " 0   id                   112067 non-null  int64  \n",
            " 1   relevance            112067 non-null  float64\n",
            " 2   product_uid          112067 non-null  int64  \n",
            " 3   search_term          112067 non-null  object \n",
            " 4   product_description  112067 non-null  object \n",
            "dtypes: float64(1), int64(2), object(2)\n",
            "memory usage: 4.3+ MB\n",
            "None\n"
          ]
        }
      ],
      "source": [
        "print(\"Check missing values for train:\")\n",
        "print(str(train.info()))\n",
        "\n",
        "print(\"\\n----------------------------------------------\\n\")\n",
        "\n",
        "print(\"Check missing values for test:\")\n",
        "print(str(test.info()))"
      ]
    },
    {
      "cell_type": "markdown",
      "metadata": {},
      "source": [
        "No missing values detected"
      ]
    },
    {
      "cell_type": "markdown",
      "metadata": {},
      "source": [
        "## **Task 1 - Character level model**"
      ]
    },
    {
      "cell_type": "markdown",
      "metadata": {},
      "source": [
        "### **1.a. - Preprocess the data**"
      ]
    },
    {
      "cell_type": "markdown",
      "metadata": {},
      "source": [
        "**In the preprocessing stage, we'll perform the following operations:**\n",
        "1. **Lowercasing**:\n",
        "   Convert all text to lowercase to ensure uniformity, minimizing the impact of case variation on our analysis.\n",
        "2. **Character Listification**:\n",
        "   Convert the contents of 'search_term' and 'product_description' into lists of individual characters. This step breaks down text into its most granular components, preparing for detailed textual analysis.\n",
        "3. **Character Conversion**:\n",
        "   Transform the 'search_term' column in both training and testing datasets into sequences of ASCII values. We'll apply a lambda function to achieve this conversion, facilitating direct comparison and processing of textual data.\n",
        "\n",
        "\n",
        "Here's an example to illustrate the process:\n",
        "- Original: \"Not only do angles\"\n",
        "- Lowercased: \"not only do angles\"\n",
        "- Listified: ['n', 'o', 't', ' ', 'o', 'n', 'l', 'y', ' ', 'd', 'o', ' ', 'a', 'n', 'g', 'l', 'e', 's']\n",
        "- ASCII Converted: [110, 111, 116, 32, 111, 110, 108, 121, 32, 100, 111, 32, 97, 110, 103, 108, 101, 115]"
      ]
    },
    {
      "cell_type": "markdown",
      "metadata": {},
      "source": [
        "**Convert all words to lower case**"
      ]
    },
    {
      "cell_type": "code",
      "execution_count": 120,
      "metadata": {},
      "outputs": [],
      "source": [
        "train_search = train['search_term'].str.lower()\n",
        "train_disc = train['product_description'].str.lower()\n",
        "\n",
        "test_search = test['search_term'].str.lower()\n",
        "test_disc = test['product_description'].str.lower()\n",
        "\n",
        "train = pd.DataFrame(\n",
        "    {'search_term': train_search,\n",
        "     'product_description': train_disc\n",
        "    })\n",
        "test = pd.DataFrame(\n",
        "    {'search_term': test_search,\n",
        "     'product_description': test_disc\n",
        "    })"
      ]
    },
    {
      "cell_type": "code",
      "execution_count": 121,
      "metadata": {},
      "outputs": [
        {
          "data": {
            "text/html": [
              "<div>\n",
              "<style scoped>\n",
              "    .dataframe tbody tr th:only-of-type {\n",
              "        vertical-align: middle;\n",
              "    }\n",
              "\n",
              "    .dataframe tbody tr th {\n",
              "        vertical-align: top;\n",
              "    }\n",
              "\n",
              "    .dataframe thead th {\n",
              "        text-align: right;\n",
              "    }\n",
              "</style>\n",
              "<table border=\"1\" class=\"dataframe\">\n",
              "  <thead>\n",
              "    <tr style=\"text-align: right;\">\n",
              "      <th></th>\n",
              "      <th>search_term</th>\n",
              "      <th>product_description</th>\n",
              "    </tr>\n",
              "  </thead>\n",
              "  <tbody>\n",
              "    <tr>\n",
              "      <th>0</th>\n",
              "      <td>angle bracket</td>\n",
              "      <td>not only do angles make joints stronger, they ...</td>\n",
              "    </tr>\n",
              "    <tr>\n",
              "      <th>1</th>\n",
              "      <td>l bracket</td>\n",
              "      <td>not only do angles make joints stronger, they ...</td>\n",
              "    </tr>\n",
              "    <tr>\n",
              "      <th>2</th>\n",
              "      <td>deck over</td>\n",
              "      <td>behr premium textured deckover is an innovativ...</td>\n",
              "    </tr>\n",
              "    <tr>\n",
              "      <th>3</th>\n",
              "      <td>rain shower head</td>\n",
              "      <td>update your bathroom with the delta vero singl...</td>\n",
              "    </tr>\n",
              "    <tr>\n",
              "      <th>4</th>\n",
              "      <td>shower only faucet</td>\n",
              "      <td>update your bathroom with the delta vero singl...</td>\n",
              "    </tr>\n",
              "  </tbody>\n",
              "</table>\n",
              "</div>"
            ],
            "text/plain": [
              "          search_term                                product_description\n",
              "0       angle bracket  not only do angles make joints stronger, they ...\n",
              "1           l bracket  not only do angles make joints stronger, they ...\n",
              "2           deck over  behr premium textured deckover is an innovativ...\n",
              "3    rain shower head  update your bathroom with the delta vero singl...\n",
              "4  shower only faucet  update your bathroom with the delta vero singl..."
            ]
          },
          "execution_count": 121,
          "metadata": {},
          "output_type": "execute_result"
        }
      ],
      "source": [
        "train.head()"
      ]
    },
    {
      "cell_type": "code",
      "execution_count": 122,
      "metadata": {},
      "outputs": [
        {
          "data": {
            "text/html": [
              "<div>\n",
              "<style scoped>\n",
              "    .dataframe tbody tr th:only-of-type {\n",
              "        vertical-align: middle;\n",
              "    }\n",
              "\n",
              "    .dataframe tbody tr th {\n",
              "        vertical-align: top;\n",
              "    }\n",
              "\n",
              "    .dataframe thead th {\n",
              "        text-align: right;\n",
              "    }\n",
              "</style>\n",
              "<table border=\"1\" class=\"dataframe\">\n",
              "  <thead>\n",
              "    <tr style=\"text-align: right;\">\n",
              "      <th></th>\n",
              "      <th>search_term</th>\n",
              "      <th>product_description</th>\n",
              "    </tr>\n",
              "  </thead>\n",
              "  <tbody>\n",
              "    <tr>\n",
              "      <th>0</th>\n",
              "      <td>metal l brackets</td>\n",
              "      <td>not only do angles make joints stronger, they ...</td>\n",
              "    </tr>\n",
              "    <tr>\n",
              "      <th>1</th>\n",
              "      <td>simpson sku able</td>\n",
              "      <td>not only do angles make joints stronger, they ...</td>\n",
              "    </tr>\n",
              "    <tr>\n",
              "      <th>2</th>\n",
              "      <td>simpson strong  ties</td>\n",
              "      <td>not only do angles make joints stronger, they ...</td>\n",
              "    </tr>\n",
              "    <tr>\n",
              "      <th>3</th>\n",
              "      <td>simpson strong tie hcc668</td>\n",
              "      <td>not only do angles make joints stronger, they ...</td>\n",
              "    </tr>\n",
              "    <tr>\n",
              "      <th>4</th>\n",
              "      <td>bath and shower kit</td>\n",
              "      <td>classic architecture meets contemporary design...</td>\n",
              "    </tr>\n",
              "  </tbody>\n",
              "</table>\n",
              "</div>"
            ],
            "text/plain": [
              "                 search_term  \\\n",
              "0           metal l brackets   \n",
              "1           simpson sku able   \n",
              "2       simpson strong  ties   \n",
              "3  simpson strong tie hcc668   \n",
              "4        bath and shower kit   \n",
              "\n",
              "                                 product_description  \n",
              "0  not only do angles make joints stronger, they ...  \n",
              "1  not only do angles make joints stronger, they ...  \n",
              "2  not only do angles make joints stronger, they ...  \n",
              "3  not only do angles make joints stronger, they ...  \n",
              "4  classic architecture meets contemporary design...  "
            ]
          },
          "execution_count": 122,
          "metadata": {},
          "output_type": "execute_result"
        }
      ],
      "source": [
        "test.head()"
      ]
    },
    {
      "cell_type": "markdown",
      "metadata": {},
      "source": [
        "**Convert the 'search_term' and 'product_description' columns to lists of characters**"
      ]
    },
    {
      "cell_type": "code",
      "execution_count": 123,
      "metadata": {},
      "outputs": [],
      "source": [
        "# Convert 'search_term' from both train and test datasets into lists of characters\n",
        "train_search = train['search_term'].apply(list)\n",
        "test_search = test['search_term'].apply(list)\n",
        "\n",
        "# Convert 'product_description' from both train and test datasets into lists of characters\n",
        "train_disc = train['product_description'].apply(list)\n",
        "test_disc = test['product_description'].apply(list)\n",
        "\n",
        "# Create new DataFrames for the training and testing data now represented as lists of characters\n",
        "train_processed = pd.DataFrame({'search_term': train_search,'product_description': train_disc})\n",
        "test_processed = pd.DataFrame({'search_term': test_search,'product_description': test_disc})"
      ]
    },
    {
      "cell_type": "code",
      "execution_count": 124,
      "metadata": {},
      "outputs": [
        {
          "data": {
            "text/html": [
              "<div>\n",
              "<style scoped>\n",
              "    .dataframe tbody tr th:only-of-type {\n",
              "        vertical-align: middle;\n",
              "    }\n",
              "\n",
              "    .dataframe tbody tr th {\n",
              "        vertical-align: top;\n",
              "    }\n",
              "\n",
              "    .dataframe thead th {\n",
              "        text-align: right;\n",
              "    }\n",
              "</style>\n",
              "<table border=\"1\" class=\"dataframe\">\n",
              "  <thead>\n",
              "    <tr style=\"text-align: right;\">\n",
              "      <th></th>\n",
              "      <th>search_term</th>\n",
              "      <th>product_description</th>\n",
              "    </tr>\n",
              "  </thead>\n",
              "  <tbody>\n",
              "    <tr>\n",
              "      <th>0</th>\n",
              "      <td>[a, n, g, l, e,  , b, r, a, c, k, e, t]</td>\n",
              "      <td>[n, o, t,  , o, n, l, y,  , d, o,  , a, n, g, ...</td>\n",
              "    </tr>\n",
              "    <tr>\n",
              "      <th>1</th>\n",
              "      <td>[l,  , b, r, a, c, k, e, t]</td>\n",
              "      <td>[n, o, t,  , o, n, l, y,  , d, o,  , a, n, g, ...</td>\n",
              "    </tr>\n",
              "    <tr>\n",
              "      <th>2</th>\n",
              "      <td>[d, e, c, k,  , o, v, e, r]</td>\n",
              "      <td>[b, e, h, r,  , p, r, e, m, i, u, m,  , t, e, ...</td>\n",
              "    </tr>\n",
              "    <tr>\n",
              "      <th>3</th>\n",
              "      <td>[r, a, i, n,  , s, h, o, w, e, r,  , h, e, a, d]</td>\n",
              "      <td>[u, p, d, a, t, e,  , y, o, u, r,  , b, a, t, ...</td>\n",
              "    </tr>\n",
              "    <tr>\n",
              "      <th>4</th>\n",
              "      <td>[s, h, o, w, e, r,  , o, n, l, y,  , f, a, u, ...</td>\n",
              "      <td>[u, p, d, a, t, e,  , y, o, u, r,  , b, a, t, ...</td>\n",
              "    </tr>\n",
              "  </tbody>\n",
              "</table>\n",
              "</div>"
            ],
            "text/plain": [
              "                                         search_term  \\\n",
              "0            [a, n, g, l, e,  , b, r, a, c, k, e, t]   \n",
              "1                        [l,  , b, r, a, c, k, e, t]   \n",
              "2                        [d, e, c, k,  , o, v, e, r]   \n",
              "3   [r, a, i, n,  , s, h, o, w, e, r,  , h, e, a, d]   \n",
              "4  [s, h, o, w, e, r,  , o, n, l, y,  , f, a, u, ...   \n",
              "\n",
              "                                 product_description  \n",
              "0  [n, o, t,  , o, n, l, y,  , d, o,  , a, n, g, ...  \n",
              "1  [n, o, t,  , o, n, l, y,  , d, o,  , a, n, g, ...  \n",
              "2  [b, e, h, r,  , p, r, e, m, i, u, m,  , t, e, ...  \n",
              "3  [u, p, d, a, t, e,  , y, o, u, r,  , b, a, t, ...  \n",
              "4  [u, p, d, a, t, e,  , y, o, u, r,  , b, a, t, ...  "
            ]
          },
          "execution_count": 124,
          "metadata": {},
          "output_type": "execute_result"
        }
      ],
      "source": [
        "train_processed.head()"
      ]
    },
    {
      "cell_type": "code",
      "execution_count": 125,
      "metadata": {},
      "outputs": [
        {
          "data": {
            "text/html": [
              "<div>\n",
              "<style scoped>\n",
              "    .dataframe tbody tr th:only-of-type {\n",
              "        vertical-align: middle;\n",
              "    }\n",
              "\n",
              "    .dataframe tbody tr th {\n",
              "        vertical-align: top;\n",
              "    }\n",
              "\n",
              "    .dataframe thead th {\n",
              "        text-align: right;\n",
              "    }\n",
              "</style>\n",
              "<table border=\"1\" class=\"dataframe\">\n",
              "  <thead>\n",
              "    <tr style=\"text-align: right;\">\n",
              "      <th></th>\n",
              "      <th>search_term</th>\n",
              "      <th>product_description</th>\n",
              "    </tr>\n",
              "  </thead>\n",
              "  <tbody>\n",
              "    <tr>\n",
              "      <th>0</th>\n",
              "      <td>[m, e, t, a, l,  , l,  , b, r, a, c, k, e, t, s]</td>\n",
              "      <td>[n, o, t,  , o, n, l, y,  , d, o,  , a, n, g, ...</td>\n",
              "    </tr>\n",
              "    <tr>\n",
              "      <th>1</th>\n",
              "      <td>[s, i, m, p, s, o, n,  , s, k, u,  , a, b, l, e]</td>\n",
              "      <td>[n, o, t,  , o, n, l, y,  , d, o,  , a, n, g, ...</td>\n",
              "    </tr>\n",
              "    <tr>\n",
              "      <th>2</th>\n",
              "      <td>[s, i, m, p, s, o, n,  , s, t, r, o, n, g,  , ...</td>\n",
              "      <td>[n, o, t,  , o, n, l, y,  , d, o,  , a, n, g, ...</td>\n",
              "    </tr>\n",
              "    <tr>\n",
              "      <th>3</th>\n",
              "      <td>[s, i, m, p, s, o, n,  , s, t, r, o, n, g,  , ...</td>\n",
              "      <td>[n, o, t,  , o, n, l, y,  , d, o,  , a, n, g, ...</td>\n",
              "    </tr>\n",
              "    <tr>\n",
              "      <th>4</th>\n",
              "      <td>[b, a, t, h,  , a, n, d,  , s, h, o, w, e, r, ...</td>\n",
              "      <td>[c, l, a, s, s, i, c,  , a, r, c, h, i, t, e, ...</td>\n",
              "    </tr>\n",
              "  </tbody>\n",
              "</table>\n",
              "</div>"
            ],
            "text/plain": [
              "                                         search_term  \\\n",
              "0   [m, e, t, a, l,  , l,  , b, r, a, c, k, e, t, s]   \n",
              "1   [s, i, m, p, s, o, n,  , s, k, u,  , a, b, l, e]   \n",
              "2  [s, i, m, p, s, o, n,  , s, t, r, o, n, g,  , ...   \n",
              "3  [s, i, m, p, s, o, n,  , s, t, r, o, n, g,  , ...   \n",
              "4  [b, a, t, h,  , a, n, d,  , s, h, o, w, e, r, ...   \n",
              "\n",
              "                                 product_description  \n",
              "0  [n, o, t,  , o, n, l, y,  , d, o,  , a, n, g, ...  \n",
              "1  [n, o, t,  , o, n, l, y,  , d, o,  , a, n, g, ...  \n",
              "2  [n, o, t,  , o, n, l, y,  , d, o,  , a, n, g, ...  \n",
              "3  [n, o, t,  , o, n, l, y,  , d, o,  , a, n, g, ...  \n",
              "4  [c, l, a, s, s, i, c,  , a, r, c, h, i, t, e, ...  "
            ]
          },
          "execution_count": 125,
          "metadata": {},
          "output_type": "execute_result"
        }
      ],
      "source": [
        "test_processed.head()"
      ]
    },
    {
      "cell_type": "markdown",
      "metadata": {},
      "source": [
        "**Convert 'search_term' from both the processed training and testing datasets into arrays of ASCII values using a lambda function**"
      ]
    },
    {
      "cell_type": "code",
      "execution_count": 126,
      "metadata": {},
      "outputs": [],
      "source": [
        "# The ASCII value of each character is obtained with the ord() function\n",
        "train_search = train_processed['search_term'].apply(lambda x: np.array([ord(i) for i in x]))\n",
        "test_search = test_processed['search_term'].apply(lambda x: np.array([ord(i) for i in x]))\n",
        "\n",
        "# Convert 'product_description' from both the processed training and testing datasets into arrays of ASCII values.\n",
        "train_disc = train_processed['product_description'].apply(lambda x: np.array([ord(i) for i in x]))\n",
        "test_disc = test_processed['product_description'].apply(lambda x: np.array([ord(i) for i in x]))\n",
        "\n",
        "# Create new DataFrames that include the ASCII representations of 'search_term' and 'product_description'\n",
        "train_process_ascii = pd.DataFrame({'search_term': train_search, 'product_description': train_disc})\n",
        "test_process_ascii = pd.DataFrame({'search_term': test_search, 'product_description': test_disc})"
      ]
    },
    {
      "cell_type": "code",
      "execution_count": 127,
      "metadata": {},
      "outputs": [
        {
          "data": {
            "text/html": [
              "<div>\n",
              "<style scoped>\n",
              "    .dataframe tbody tr th:only-of-type {\n",
              "        vertical-align: middle;\n",
              "    }\n",
              "\n",
              "    .dataframe tbody tr th {\n",
              "        vertical-align: top;\n",
              "    }\n",
              "\n",
              "    .dataframe thead th {\n",
              "        text-align: right;\n",
              "    }\n",
              "</style>\n",
              "<table border=\"1\" class=\"dataframe\">\n",
              "  <thead>\n",
              "    <tr style=\"text-align: right;\">\n",
              "      <th></th>\n",
              "      <th>search_term</th>\n",
              "      <th>product_description</th>\n",
              "    </tr>\n",
              "  </thead>\n",
              "  <tbody>\n",
              "    <tr>\n",
              "      <th>0</th>\n",
              "      <td>[97, 110, 103, 108, 101, 32, 98, 114, 97, 99, ...</td>\n",
              "      <td>[110, 111, 116, 32, 111, 110, 108, 121, 32, 10...</td>\n",
              "    </tr>\n",
              "    <tr>\n",
              "      <th>1</th>\n",
              "      <td>[108, 32, 98, 114, 97, 99, 107, 101, 116]</td>\n",
              "      <td>[110, 111, 116, 32, 111, 110, 108, 121, 32, 10...</td>\n",
              "    </tr>\n",
              "    <tr>\n",
              "      <th>2</th>\n",
              "      <td>[100, 101, 99, 107, 32, 111, 118, 101, 114]</td>\n",
              "      <td>[98, 101, 104, 114, 32, 112, 114, 101, 109, 10...</td>\n",
              "    </tr>\n",
              "    <tr>\n",
              "      <th>3</th>\n",
              "      <td>[114, 97, 105, 110, 32, 115, 104, 111, 119, 10...</td>\n",
              "      <td>[117, 112, 100, 97, 116, 101, 32, 121, 111, 11...</td>\n",
              "    </tr>\n",
              "    <tr>\n",
              "      <th>4</th>\n",
              "      <td>[115, 104, 111, 119, 101, 114, 32, 111, 110, 1...</td>\n",
              "      <td>[117, 112, 100, 97, 116, 101, 32, 121, 111, 11...</td>\n",
              "    </tr>\n",
              "  </tbody>\n",
              "</table>\n",
              "</div>"
            ],
            "text/plain": [
              "                                         search_term  \\\n",
              "0  [97, 110, 103, 108, 101, 32, 98, 114, 97, 99, ...   \n",
              "1          [108, 32, 98, 114, 97, 99, 107, 101, 116]   \n",
              "2        [100, 101, 99, 107, 32, 111, 118, 101, 114]   \n",
              "3  [114, 97, 105, 110, 32, 115, 104, 111, 119, 10...   \n",
              "4  [115, 104, 111, 119, 101, 114, 32, 111, 110, 1...   \n",
              "\n",
              "                                 product_description  \n",
              "0  [110, 111, 116, 32, 111, 110, 108, 121, 32, 10...  \n",
              "1  [110, 111, 116, 32, 111, 110, 108, 121, 32, 10...  \n",
              "2  [98, 101, 104, 114, 32, 112, 114, 101, 109, 10...  \n",
              "3  [117, 112, 100, 97, 116, 101, 32, 121, 111, 11...  \n",
              "4  [117, 112, 100, 97, 116, 101, 32, 121, 111, 11...  "
            ]
          },
          "execution_count": 127,
          "metadata": {},
          "output_type": "execute_result"
        }
      ],
      "source": [
        "train_process_ascii.head()"
      ]
    },
    {
      "cell_type": "code",
      "execution_count": 128,
      "metadata": {},
      "outputs": [
        {
          "data": {
            "text/html": [
              "<div>\n",
              "<style scoped>\n",
              "    .dataframe tbody tr th:only-of-type {\n",
              "        vertical-align: middle;\n",
              "    }\n",
              "\n",
              "    .dataframe tbody tr th {\n",
              "        vertical-align: top;\n",
              "    }\n",
              "\n",
              "    .dataframe thead th {\n",
              "        text-align: right;\n",
              "    }\n",
              "</style>\n",
              "<table border=\"1\" class=\"dataframe\">\n",
              "  <thead>\n",
              "    <tr style=\"text-align: right;\">\n",
              "      <th></th>\n",
              "      <th>search_term</th>\n",
              "      <th>product_description</th>\n",
              "    </tr>\n",
              "  </thead>\n",
              "  <tbody>\n",
              "    <tr>\n",
              "      <th>0</th>\n",
              "      <td>[109, 101, 116, 97, 108, 32, 108, 32, 98, 114,...</td>\n",
              "      <td>[110, 111, 116, 32, 111, 110, 108, 121, 32, 10...</td>\n",
              "    </tr>\n",
              "    <tr>\n",
              "      <th>1</th>\n",
              "      <td>[115, 105, 109, 112, 115, 111, 110, 32, 115, 1...</td>\n",
              "      <td>[110, 111, 116, 32, 111, 110, 108, 121, 32, 10...</td>\n",
              "    </tr>\n",
              "    <tr>\n",
              "      <th>2</th>\n",
              "      <td>[115, 105, 109, 112, 115, 111, 110, 32, 115, 1...</td>\n",
              "      <td>[110, 111, 116, 32, 111, 110, 108, 121, 32, 10...</td>\n",
              "    </tr>\n",
              "    <tr>\n",
              "      <th>3</th>\n",
              "      <td>[115, 105, 109, 112, 115, 111, 110, 32, 115, 1...</td>\n",
              "      <td>[110, 111, 116, 32, 111, 110, 108, 121, 32, 10...</td>\n",
              "    </tr>\n",
              "    <tr>\n",
              "      <th>4</th>\n",
              "      <td>[98, 97, 116, 104, 32, 97, 110, 100, 32, 115, ...</td>\n",
              "      <td>[99, 108, 97, 115, 115, 105, 99, 32, 97, 114, ...</td>\n",
              "    </tr>\n",
              "  </tbody>\n",
              "</table>\n",
              "</div>"
            ],
            "text/plain": [
              "                                         search_term  \\\n",
              "0  [109, 101, 116, 97, 108, 32, 108, 32, 98, 114,...   \n",
              "1  [115, 105, 109, 112, 115, 111, 110, 32, 115, 1...   \n",
              "2  [115, 105, 109, 112, 115, 111, 110, 32, 115, 1...   \n",
              "3  [115, 105, 109, 112, 115, 111, 110, 32, 115, 1...   \n",
              "4  [98, 97, 116, 104, 32, 97, 110, 100, 32, 115, ...   \n",
              "\n",
              "                                 product_description  \n",
              "0  [110, 111, 116, 32, 111, 110, 108, 121, 32, 10...  \n",
              "1  [110, 111, 116, 32, 111, 110, 108, 121, 32, 10...  \n",
              "2  [110, 111, 116, 32, 111, 110, 108, 121, 32, 10...  \n",
              "3  [110, 111, 116, 32, 111, 110, 108, 121, 32, 10...  \n",
              "4  [99, 108, 97, 115, 115, 105, 99, 32, 97, 114, ...  "
            ]
          },
          "execution_count": 128,
          "metadata": {},
          "output_type": "execute_result"
        }
      ],
      "source": [
        "test_process_ascii.head()"
      ]
    },
    {
      "cell_type": "markdown",
      "metadata": {},
      "source": [
        "**Find the lengths of 'search_term' and 'product_description' in a DataFrame**"
      ]
    },
    {
      "cell_type": "code",
      "execution_count": 129,
      "metadata": {},
      "outputs": [],
      "source": [
        "def calculate_min_max_average(list_one, list_two):\n",
        "    min_length = float('inf')  # Initialize with infinity\n",
        "    max_length = -float('inf')  # Initialize with negative infinity\n",
        "    total_length = 0\n",
        "    total_count = 0  # Keep track of the total number of items\n",
        "\n",
        "    # Function to update min, max, and sum based on item type\n",
        "    def update_stats(item):\n",
        "        nonlocal min_length, max_length, total_length\n",
        "        if isinstance(item, (list, str)):  # Check if item is a list or a string\n",
        "            length = len(item)\n",
        "        elif isinstance(item, (int, float)):  # Check if item is a number\n",
        "            length = item  # Treat the number as its own length\n",
        "        else:\n",
        "            return  # Skip items that are neither list, string, nor number\n",
        "\n",
        "        total_length += length\n",
        "        if length < min_length:\n",
        "            min_length = length\n",
        "        if length > max_length:\n",
        "            max_length = length\n",
        "\n",
        "    # Iterate through both lists, updating stats\n",
        "    for item in list_one:\n",
        "        update_stats(item)\n",
        "        total_count += 1  # Increment total count for each processed item\n",
        "    for item in list_two:\n",
        "        update_stats(item)\n",
        "        total_count += 1\n",
        "\n",
        "    if total_count == 0:  # Prevent division by zero\n",
        "        return 0, 0, 0\n",
        "    if min_length == float('inf'):  # If min_length was never updated\n",
        "        min_length = 0\n",
        "    if max_length == -float('inf'):  # If max_length was never updated\n",
        "        max_length = 0\n",
        "\n",
        "    average_length = total_length // total_count  # Calculate average\n",
        "\n",
        "    return min_length, max_length, average_length"
      ]
    },
    {
      "cell_type": "code",
      "execution_count": 130,
      "metadata": {},
      "outputs": [
        {
          "name": "stdout",
          "output_type": "stream",
          "text": [
            "Seach Term : min-1, max-60, avg-18\n",
            "Product Description : min-8, max-5516, avg-888\n"
          ]
        }
      ],
      "source": [
        "search_term_min, search_term_max, search_term_avg = calculate_min_max_average(train['search_term'],test['search_term'])\n",
        "prod_des_min, prod_des_max, prod_des_avg = calculate_min_max_average(train['product_description'],test['product_description'])\n",
        "print(f\"Seach Term : min-{search_term_min}, max-{search_term_max}, avg-{search_term_avg}\")\n",
        "print(f\"Product Description : min-{prod_des_min}, max-{prod_des_max}, avg-{prod_des_avg}\")"
      ]
    },
    {
      "cell_type": "markdown",
      "metadata": {},
      "source": [
        "We can see the ranges between search term and product descriptions are very large, we will choose to pad to the average because of memory efficency"
      ]
    },
    {
      "cell_type": "code",
      "execution_count": 131,
      "metadata": {},
      "outputs": [
        {
          "name": "stdout",
          "output_type": "stream",
          "text": [
            "max_pad_size: 888\n"
          ]
        }
      ],
      "source": [
        "def pad_seq(df,pad_len):\n",
        "    df['search_term'] = [x for x in pad_sequences(df['search_term'], maxlen=pad_len, padding='post')]\n",
        "    df['product_description'] = [x for x in pad_sequences(df['product_description'], maxlen=pad_len, padding='post')]\n",
        "    return df\n",
        "\n",
        "max_pad_size = prod_des_avg if prod_des_avg > search_term_avg else search_term_avg\n",
        "\n",
        "print(f\"max_pad_size: {max_pad_size}\")\n",
        "train_pad = pad_seq(train_process_ascii, max_pad_size)\n",
        "test_pad = pad_seq(test_process_ascii, max_pad_size)"
      ]
    },
    {
      "cell_type": "markdown",
      "metadata": {},
      "source": [
        "### **1.b. - Siamese network model**"
      ]
    },
    {
      "cell_type": "markdown",
      "metadata": {},
      "source": [
        "**Splitting the dataset into training and validation sets**"
      ]
    },
    {
      "cell_type": "code",
      "execution_count": 140,
      "metadata": {},
      "outputs": [
        {
          "name": "stdout",
          "output_type": "stream",
          "text": [
            "X_train: (59253, 2), X_val: (14814, 2), X_test: (112067, 2)\n",
            "y_train: (59253,), y_val: (14814,), y_test: (112067,)\n"
          ]
        }
      ],
      "source": [
        "# Splitting the dataset into training and validation sets\n",
        "# X_train, X_val, y_train, y_val = train_test_split(train_pad,labels_train.values, test_size=0.2, stratify=labels_train, random_state=42)\n",
        "X_train, X_val, y_train, y_val = train_test_split(train_pad,labels_train.values, test_size=0.2, random_state=42)\n",
        "\n",
        "\n",
        "X_test = test_pad\n",
        "y_test = labels_test\n",
        "\n",
        "print(f\"X_train: {X_train.shape}, X_val: {X_val.shape}, X_test: {X_test.shape}\")\n",
        "print(f\"y_train: {y_train.shape}, y_val: {y_val.shape}, y_test: {y_test.shape}\")"
      ]
    },
    {
      "cell_type": "code",
      "execution_count": 133,
      "metadata": {},
      "outputs": [],
      "source": [
        "def get_dataset_dataloader(x,y,batch_size=32,shuffle=False):\n",
        "    X_search_np = np.array(x['search_term'].values.tolist()).astype(np.int64)\n",
        "    X_desc_np = np.array(x['product_description'].values.tolist()).astype(np.int64)\n",
        "    y_np = np.array(y, dtype=np.float32)\n",
        "\n",
        "    X_search_tensor = torch.tensor(X_search_np, dtype=torch.long)\n",
        "    X_desc_tensor = torch.tensor(X_desc_np, dtype=torch.long)\n",
        "    y_tensor = torch.tensor(y_np, dtype=torch.float32)\n",
        "\n",
        "    dataset = TensorDataset(X_search_tensor, X_desc_tensor, y_tensor)\n",
        "    dataloader = DataLoader(dataset, batch_size=batch_size, shuffle=shuffle)\n",
        "    return dataset,dataloader"
      ]
    },
    {
      "cell_type": "markdown",
      "metadata": {},
      "source": [
        "**The Siamese network model**"
      ]
    },
    {
      "cell_type": "markdown",
      "metadata": {},
      "source": [
        "The `SiameseNetwork` architecture is designed for tasks that involve comparing two inputs, like verifying if two sentences are similar. It uses a shared network to process both inputs, ensuring that the same transformation is applied, making the comparison meaningful."
      ]
    },
    {
      "cell_type": "markdown",
      "metadata": {},
      "source": [
        "- **Embedding Layer**: Converts input vocab indices into dense vectors of a specified size (`embedding_dim`), facilitating the model to learn representations for each word.\n",
        "\n",
        "- **Convolutional Layers**: Two convolutional layers (`conv1` and `conv2`) process the embedded input. These layers help the model to extract local features from the input sequence.\n",
        "\n",
        "- **Pooling Layers**: Following each convolutional layer, a max-pooling operation reduces the dimensionality of the data, focusing on the most significant features and reducing computation for subsequent layers.\n",
        "\n",
        "- **Flattening**: The output from the last pooling layer is flattened into a single vector, making it suitable for processing by fully connected layers.\n",
        "\n",
        "- **Fully Connected Layer**: The flattened vector is passed through a fully connected layer (`fc`) to map the extracted features to a single value representing the similarity between the two inputs.\n",
        "\n",
        "- **Forward Pass**: The `forward_once` method processes each input through the embedding, convolutional, pooling, and flattening steps. The `forward` method calls `forward_once` for each of the two inputs, then calculates their similarity by taking the absolute difference of their outputs from `forward_once` and passing it through the fully connected layer.\n",
        "\n",
        "This architecture is effective for learning complex patterns and relationships between pairs of inputs, making it suitable for tasks like semantic similarity."
      ]
    },
    {
      "cell_type": "code",
      "execution_count": null,
      "metadata": {},
      "outputs": [],
      "source": [
        "class SiameseNetwork(nn.Module):\n",
        "    def __init__(self, vocab_size, embedding_dim, channels, max_pad_size):\n",
        "        super(SiameseNetwork, self).__init__()\n",
        "        self.embedding = nn.Embedding(num_embeddings=vocab_size, embedding_dim=embedding_dim)\n",
        "        \n",
        "        # Convolutional layers\n",
        "        self.conv1 = nn.Conv1d(in_channels=embedding_dim, out_channels=channels[0], kernel_size=3, padding=1)\n",
        "        self.pool = nn.MaxPool1d(kernel_size=2)\n",
        "        self.conv2 = nn.Conv1d(in_channels=channels[0], out_channels=channels[1], kernel_size=3, padding=1)\n",
        "        \n",
        "        # Dynamically calculate the flattened size after conv and pool layers\n",
        "        self.max_pad_size = max_pad_size\n",
        "        dummy_input = torch.zeros((1, max_pad_size), dtype=torch.long)\n",
        "        dummy_output = self.forward_once(dummy_input)\n",
        "        self.flattened_size = dummy_output.shape[1]\n",
        "        \n",
        "        # Fully connected layer\n",
        "        self.fc = nn.Linear(self.flattened_size, 1)\n",
        "        \n",
        "    def forward_once(self, x):\n",
        "        x = self.embedding(x)\n",
        "        x = x.permute(0, 2, 1)  # Rearrange for Conv1d\n",
        "        x = F.relu(self.conv1(x))\n",
        "        x = self.pool(x)\n",
        "        x = F.relu(self.conv2(x))\n",
        "        x = self.pool(x)\n",
        "        x = torch.flatten(x, start_dim=1)\n",
        "        return x\n",
        "\n",
        "    def forward(self, input1, input2):\n",
        "        output1 = self.forward_once(input1)\n",
        "        output2 = self.forward_once(input2)\n",
        "        \n",
        "        # Concatenate the outputs for final similarity measurement\n",
        "        combined_output = torch.abs(output1 - output2)\n",
        "        similarity = self.fc(combined_output)\n",
        "        return similarity"
      ]
    },
    {
      "cell_type": "markdown",
      "metadata": {},
      "source": [
        "Initialization Dataset"
      ]
    },
    {
      "cell_type": "code",
      "execution_count": 144,
      "metadata": {},
      "outputs": [],
      "source": [
        "class SiameseDataset(Dataset):\n",
        "    def __init__(self, search_terms, descriptions, labels=None):\n",
        "        self.search_terms = search_terms\n",
        "        self.descriptions = descriptions\n",
        "        self.labels = labels if labels is not None else [-1] * len(search_terms)\n",
        "    \n",
        "    def __len__(self):\n",
        "        return len(self.search_terms)\n",
        "    \n",
        "    def __getitem__(self, idx):\n",
        "        search_term = self.search_terms[idx]\n",
        "        description = self.descriptions[idx]\n",
        "        label = self.labels[idx]\n",
        "        return search_term, description, label\n",
        "\n",
        "def get_dataset_dataloader(x, y=None, batch_size=32, shuffle=False):\n",
        "    # Convert the sequences of ASCII values into tensors\n",
        "    X_search_tensor = torch.tensor(x['search_term'].tolist(), dtype=torch.long)\n",
        "    X_desc_tensor = torch.tensor(x['product_description'].tolist(), dtype=torch.long)\n",
        "\n",
        "    if y is not None:\n",
        "        y_tensor = torch.tensor(y.tolist(), dtype=torch.float32)\n",
        "        dataset = TensorDataset(X_search_tensor, X_desc_tensor, y_tensor)\n",
        "    else:\n",
        "        # If 'y' is None, indicating no labels are available (e.g., for test set)\n",
        "        dataset = TensorDataset(X_search_tensor, X_desc_tensor)\n",
        "\n",
        "    dataloader = DataLoader(dataset, batch_size=batch_size, shuffle=shuffle)\n",
        "    return dataset, dataloader\n",
        "\n",
        "# Example usage with placeholder data for X_train, y_train, etc.\n",
        "batch_size = 64\n",
        "train_dataset, train_dataloader = get_dataset_dataloader(X_train, y_train, batch_size=batch_size, shuffle=True)\n",
        "val_dataset, val_dataloader = get_dataset_dataloader(X_val, y_val, batch_size=batch_size, shuffle=False)\n",
        "test_dataset, test_dataloader = get_dataset_dataloader(X_test, y_test, batch_size=batch_size, shuffle=False)\n"
      ]
    },
    {
      "cell_type": "markdown",
      "metadata": {},
      "source": [
        "Initialization of hyperparameters"
      ]
    },
    {
      "cell_type": "code",
      "execution_count": 145,
      "metadata": {},
      "outputs": [],
      "source": [
        "vocab_size = 256\n",
        "embed_dim = 50\n",
        "channels = [16, 32]\n",
        "model = SiameseNetwork(vocab_size=vocab_size, embedding_dim=embed_dim, channels=channels, max_pad_size=max_pad_size)\n",
        "lr = 0.0001\n",
        "\n",
        "# Training setup\n",
        "criterion = nn.MSELoss()\n",
        "optimizer = torch.optim.Adam(model.parameters(), lr)\n",
        "num_epochs = 10"
      ]
    },
    {
      "cell_type": "markdown",
      "metadata": {},
      "source": [
        "Calculate metrics"
      ]
    },
    {
      "cell_type": "code",
      "execution_count": 95,
      "metadata": {},
      "outputs": [],
      "source": [
        "def calculate_metrics(model, data_loader, criterion=None):\n",
        "    model.eval()  # Set the model to evaluation mode\n",
        "    total_loss = 0\n",
        "    all_outputs = []\n",
        "    all_labels = []\n",
        "    \n",
        "    with torch.no_grad():  # No need to track gradients\n",
        "        for batch in data_loader:\n",
        "            # Adjust unpacking based on the number of elements in the batch\n",
        "            if len(batch) == 3:\n",
        "                inputs1, inputs2, labels = batch\n",
        "                inputs1, inputs2, labels = inputs1.to(device), inputs2.to(device), labels.to(device)\n",
        "            elif len(batch) == 2:\n",
        "                inputs1, inputs2 = batch\n",
        "                inputs1, inputs2 = inputs1.to(device), inputs2.to(device)\n",
        "                labels = None\n",
        "            \n",
        "            outputs = model(inputs1, inputs2)\n",
        "            if labels is not None and criterion is not None:\n",
        "                loss = criterion(outputs.squeeze(), labels)\n",
        "                total_loss += loss.item()\n",
        "                all_labels.extend(labels.cpu().numpy())\n",
        "            \n",
        "            all_outputs.extend(outputs.squeeze().cpu().numpy())\n",
        "\n",
        "        # Calculate metrics only if labels were provided\n",
        "        if all_labels:\n",
        "            rmse = sqrt(mean_squared_error(all_labels, all_outputs))\n",
        "            mae = mean_absolute_error(all_labels, all_outputs)\n",
        "            avg_loss = total_loss / len(data_loader)\n",
        "        else:\n",
        "            rmse = mae = avg_loss = None  # Set to None if no labels are present\n",
        "\n",
        "    return avg_loss, rmse, mae"
      ]
    },
    {
      "cell_type": "code",
      "execution_count": 146,
      "metadata": {},
      "outputs": [
        {
          "name": "stdout",
          "output_type": "stream",
          "text": [
            "[neptune] [info   ] Neptune initialized. Open in the app: https://app.neptune.ai/rovo/dl-workshop-3/e/DLWOR-168\n"
          ]
        },
        {
          "name": "stderr",
          "output_type": "stream",
          "text": [
            " 10%|█         | 1/10 [01:49<16:25, 109.45s/it]"
          ]
        },
        {
          "name": "stdout",
          "output_type": "stream",
          "text": [
            "Epoch 1, Train Loss: 0.2847, Train RMSE: 0.5336, Train MAE: 0.4346, Val Loss: 0.2866, Val RMSE: 0.5354, Val MAE: 0.4345\n"
          ]
        },
        {
          "name": "stderr",
          "output_type": "stream",
          "text": [
            " 20%|██        | 2/10 [03:31<14:02, 105.27s/it]"
          ]
        },
        {
          "name": "stdout",
          "output_type": "stream",
          "text": [
            "Epoch 2, Train Loss: 0.2736, Train RMSE: 0.5231, Train MAE: 0.4310, Val Loss: 0.2814, Val RMSE: 0.5305, Val MAE: 0.4363\n"
          ]
        },
        {
          "name": "stderr",
          "output_type": "stream",
          "text": [
            " 30%|███       | 3/10 [05:13<12:04, 103.52s/it]"
          ]
        },
        {
          "name": "stdout",
          "output_type": "stream",
          "text": [
            "Epoch 3, Train Loss: 0.2658, Train RMSE: 0.5155, Train MAE: 0.4232, Val Loss: 0.2792, Val RMSE: 0.5284, Val MAE: 0.4327\n"
          ]
        },
        {
          "name": "stderr",
          "output_type": "stream",
          "text": [
            " 40%|████      | 4/10 [06:51<10:08, 101.43s/it]"
          ]
        },
        {
          "name": "stdout",
          "output_type": "stream",
          "text": [
            "Epoch 4, Train Loss: 0.2605, Train RMSE: 0.5103, Train MAE: 0.4177, Val Loss: 0.2788, Val RMSE: 0.5281, Val MAE: 0.4318\n"
          ]
        },
        {
          "name": "stderr",
          "output_type": "stream",
          "text": [
            " 50%|█████     | 5/10 [08:36<08:32, 102.60s/it]"
          ]
        },
        {
          "name": "stdout",
          "output_type": "stream",
          "text": [
            "Epoch 5, Train Loss: 0.2565, Train RMSE: 0.5064, Train MAE: 0.4124, Val Loss: 0.2797, Val RMSE: 0.5289, Val MAE: 0.4302\n"
          ]
        },
        {
          "name": "stderr",
          "output_type": "stream",
          "text": [
            " 60%|██████    | 6/10 [10:16<06:47, 101.77s/it]"
          ]
        },
        {
          "name": "stdout",
          "output_type": "stream",
          "text": [
            "Epoch 6, Train Loss: 0.2516, Train RMSE: 0.5016, Train MAE: 0.4113, Val Loss: 0.2797, Val RMSE: 0.5289, Val MAE: 0.4333\n"
          ]
        },
        {
          "name": "stderr",
          "output_type": "stream",
          "text": [
            " 70%|███████   | 7/10 [11:58<05:05, 101.89s/it]"
          ]
        },
        {
          "name": "stdout",
          "output_type": "stream",
          "text": [
            "Epoch 7, Train Loss: 0.2490, Train RMSE: 0.4990, Train MAE: 0.4051, Val Loss: 0.2820, Val RMSE: 0.5311, Val MAE: 0.4308\n"
          ]
        },
        {
          "name": "stderr",
          "output_type": "stream",
          "text": [
            " 80%|████████  | 8/10 [13:42<03:25, 102.73s/it]"
          ]
        },
        {
          "name": "stdout",
          "output_type": "stream",
          "text": [
            "Epoch 8, Train Loss: 0.2463, Train RMSE: 0.4963, Train MAE: 0.4019, Val Loss: 0.2834, Val RMSE: 0.5324, Val MAE: 0.4312\n"
          ]
        },
        {
          "name": "stderr",
          "output_type": "stream",
          "text": [
            " 90%|█████████ | 9/10 [15:22<01:41, 101.69s/it]"
          ]
        },
        {
          "name": "stdout",
          "output_type": "stream",
          "text": [
            "Epoch 9, Train Loss: 0.2471, Train RMSE: 0.4971, Train MAE: 0.4000, Val Loss: 0.2897, Val RMSE: 0.5382, Val MAE: 0.4329\n"
          ]
        },
        {
          "name": "stderr",
          "output_type": "stream",
          "text": [
            "100%|██████████| 10/10 [17:05<00:00, 102.58s/it]"
          ]
        },
        {
          "name": "stdout",
          "output_type": "stream",
          "text": [
            "Epoch 10, Train Loss: 0.2398, Train RMSE: 0.4897, Train MAE: 0.3975, Val Loss: 0.2855, Val RMSE: 0.5344, Val MAE: 0.4340\n"
          ]
        },
        {
          "name": "stderr",
          "output_type": "stream",
          "text": [
            "\n"
          ]
        },
        {
          "name": "stdout",
          "output_type": "stream",
          "text": [
            "Test Loss: 0.2968, Test RMSE: 0.5447, Test MAE: 0.4423\n",
            "Total training and evaluation time: 1065.87 seconds\n",
            "[neptune] [info   ] Shutting down background jobs, please wait a moment...\n",
            "[neptune] [info   ] Done!\n",
            "[neptune] [info   ] Waiting for the remaining 4 operations to synchronize with Neptune. Do not kill this process.\n",
            "[neptune] [info   ] All 4 operations synced, thanks for waiting!\n",
            "[neptune] [info   ] Explore the metadata in the Neptune app: https://app.neptune.ai/rovo/dl-workshop-3/e/DLWOR-168/metadata\n"
          ]
        }
      ],
      "source": [
        "# Initialize Neptune run\n",
        "run = neptune.init_run(\n",
        "    project=\"rovo/dl-workshop-3\",\n",
        "    api_token=\"eyJhcGlfYWRkcmVzcyI6Imh0dHBzOi8vYXBwLm5lcHR1bmUuYWkiLCJhcGlfdXJsIjoiaHR0cHM6Ly9hcHAubmVwdHVuZS5haSIsImFwaV9rZXkiOiI2ODM2YmQ5ZC1mOGNkLTQyNGEtOTA1NC1jZjZmOWUxOTVmOTMifQ==\",\n",
        ")\n",
        "\n",
        "# Define model parameters for logging\n",
        "params = {\n",
        "    \"model_type\": \"char\",\n",
        "    \"epochs\": num_epochs,\n",
        "    \"max_pad_size\": max_pad_size,\n",
        "    \"batch_size\": batch_size,\n",
        "    \"embed_dim\": embed_dim,\n",
        "    \"channels\": f\"{channels[0]},{channels[1]}\",\n",
        "    \"learning_rate\": lr,\n",
        "    \"optimizer\": \"Adam\",\n",
        "    \"criterion\": \"MSE\"\n",
        "}\n",
        "run[\"parameters\"] = params\n",
        "\n",
        "# Start the training loop with metrics calculation\n",
        "start_time = time.time()\n",
        "\n",
        "for epoch in tqdm(range(num_epochs)):\n",
        "    model.train()\n",
        "    for search, description, labels in train_dataloader:\n",
        "        search, description, labels = search.to(device), description.to(device), labels.to(device)\n",
        "        optimizer.zero_grad()\n",
        "        outputs = model(search, description)\n",
        "        loss = criterion(outputs.squeeze(), labels)\n",
        "        loss.backward()\n",
        "        optimizer.step()\n",
        "\n",
        "    # Calculate metrics on training and validation datasets\n",
        "    train_loss, train_rmse, train_mae = calculate_metrics(model, train_dataloader, criterion)\n",
        "    # Log metrics to Neptune\n",
        "    run[\"train/loss\"].append(train_loss)\n",
        "    run[\"train/RMSE\"].append(train_rmse)\n",
        "    run[\"train/MAE\"].append(train_mae)\n",
        "\n",
        "    val_loss, val_rmse, val_mae = calculate_metrics(model, val_dataloader, criterion)\n",
        "    # Log metrics to Neptune\n",
        "    run[\"val/loss\"].append(val_loss)\n",
        "    run[\"val/RMSE\"].append(val_rmse)\n",
        "    run[\"val/MAE\"].append(val_mae)\n",
        "\n",
        "    # Print epoch metrics\n",
        "    print(f'Epoch {epoch+1}, Train Loss: {train_loss:.4f}, Train RMSE: {train_rmse:.4f}, Train MAE: {train_mae:.4f}, Val Loss: {val_loss:.4f}, Val RMSE: {val_rmse:.4f}, Val MAE: {val_mae:.4f}')\n",
        "\n",
        "# Calculate metrics on the test set\n",
        "test_loss, test_rmse, test_mae = calculate_metrics(model, test_dataloader, criterion)\n",
        "# Log metrics to Neptune\n",
        "run[\"test/loss\"].append(test_loss)\n",
        "run[\"test/RMSE\"].append(test_rmse)\n",
        "run[\"test/MAE\"].append(test_mae)\n",
        "print(f'Test Loss: {test_loss:.4f}, Test RMSE: {test_rmse:.4f}, Test MAE: {test_mae:.4f}')\n",
        "\n",
        "\n",
        "# Calculate and log the total runtime\n",
        "total_runtime = time.time() - start_time\n",
        "print(f'Total training and evaluation time: {total_runtime:.2f} seconds')\n",
        "run[\"train/time\"].append(total_runtime)\n",
        "\n",
        "# Stop the Neptune run\n",
        "run.stop()"
      ]
    },
    {
      "cell_type": "markdown",
      "metadata": {},
      "source": [
        "**The best results we got:**\n",
        "\n",
        "In experiment EX.8, we utilized a character-level Siamese model with an Adam optimizer and a learning rate of 0.0001. We set the batch size to 128 and the maximum padding size to 888, which, along with an embedding dimension of 50 and convolutional channels set to 16 and 32, resulted in a training runtime of approximately 854 seconds. The model achieved a training RMSE of 0.515 and MAE of 0.427. On the validation set, it recorded an RMSE of 0.530 and an MAE of 0.443, while on the test set, it achieved an RMSE of 0.535 and an MAE of 0.442. These results indicate a strong and consistent performance across the board.\n",
        "\n",
        "In the graphs below you can see the performance as the epochs progress."
      ]
    },
    {
      "attachments": {
        "image-2.png": {
          "image/png": "[encoded data removed]"
        }
      },
      "cell_type": "markdown",
      "metadata": {},
      "source": [
        "![image-2.png](attachment:image-2.png)"
      ]
    },
    {
      "attachments": {
        "image.png": {
          "image/png": "[encoded data removed]"
        }
      },
      "cell_type": "markdown",
      "metadata": {},
      "source": [
        "![image.png](attachment:image.png)"
      ]
    },
    {
      "cell_type": "markdown",
      "metadata": {},
      "source": [
        "### **1.c. - Benchmark**"
      ]
    },
    {
      "cell_type": "markdown",
      "metadata": {},
      "source": [
        "We use KNN model as a benchmark because it's intuitive, easy to implement, and provides a straightforward performance baseline.\n",
        "\n",
        "We prepares text data, extracts features using character n-grams, trains a K-Nearest Neighbors (KNN) model, and evaluates it using MAE and RMSE. KNN serves as a straightforward, intuitive benchmark to gauge model performance against more complex algorithms."
      ]
    },
    {
      "cell_type": "code",
      "execution_count": 150,
      "metadata": {},
      "outputs": [
        {
          "name": "stdout",
          "output_type": "stream",
          "text": [
            "Train MAE: 0.32300401104866705\n",
            "Train RMSE: 0.4105804061703523\n",
            "Val MAE: 0.46224314837316055\n",
            "Val RMSE: 0.5815218202866603\n",
            "CPU times: total: 2min 49s\n",
            "Wall time: 1min 1s\n"
          ]
        }
      ],
      "source": [
        "%%time\n",
        "# Prepare data\n",
        "X_search_train, X_description_train, y_train = train['search_term'], train['product_description'], labels_train\n",
        "\n",
        "# Create features using CountVectorizer\n",
        "vectorizer = CountVectorizer(analyzer='char', ngram_range=(1, 1))\n",
        "X_features_train = np.hstack((vectorizer.fit_transform(X_search_train).toarray(), \n",
        "                        vectorizer.transform(X_description_train).toarray()))\n",
        "\n",
        "# Split data\n",
        "X_train, X_val, y_train, y_val = train_test_split(X_features_train, y_train, test_size=0.2, random_state=42)\n",
        "\n",
        "# Initialize and fit the model\n",
        "knn_model = KNeighborsRegressor(n_neighbors=3).fit(X_train, y_train)\n",
        "\n",
        "# Training metrics for comparison\n",
        "y_train_pred = knn_model.predict(X_train)\n",
        "train_mae, train_rmse = mean_absolute_error(y_train, y_train_pred), np.sqrt(mean_squared_error(y_train, y_train_pred))\n",
        "print(f\"Train MAE: {train_mae}\\nTrain RMSE: {train_rmse}\")\n",
        "\n",
        "# Predict and evaluate\n",
        "y_val_pred = knn_model.predict(X_val)\n",
        "val_mae, val_rmse = mean_absolute_error(y_val, y_val_pred), np.sqrt(mean_squared_error(y_val, y_val_pred))\n",
        "print(f\"Val MAE: {val_mae}\\nVal RMSE: {val_rmse}\")"
      ]
    },
    {
      "cell_type": "code",
      "execution_count": 153,
      "metadata": {},
      "outputs": [
        {
          "data": {
            "image/png": "[encoded data removed]",
            "text/plain": [
              "<Figure size 800x500 with 1 Axes>"
            ]
          },
          "metadata": {},
          "output_type": "display_data"
        },
        {
          "name": "stdout",
          "output_type": "stream",
          "text": [
            "Test MAE: 0.4864649421030871\n",
            "Test RMSE: 0.6076781809036642\n"
          ]
        }
      ],
      "source": [
        "X_search_test, X_description_test, y_test = test['search_term'], test['product_description'], labels_test\n",
        "\n",
        "X_features_test = np.hstack((vectorizer.transform(X_search_test).toarray(),\n",
        "                             vectorizer.transform(X_description_test).toarray()))\n",
        "\n",
        "# Predict and evaluate on test data\n",
        "y_test_pred = knn_model.predict(X_features_test)\n",
        "test_mae, test_rmse = mean_absolute_error(y_test, y_test_pred), np.sqrt(mean_squared_error(y_test, y_test_pred))\n",
        "\n",
        "# Data for plotting\n",
        "metrics = ['MAE', 'RMSE']\n",
        "values = [test_mae, test_rmse]\n",
        "\n",
        "# Plotting\n",
        "plt.figure(figsize=(8, 5))\n",
        "plt.bar(metrics, values, color=['skyblue', 'orange'])\n",
        "plt.ylabel('Value')\n",
        "plt.title('Test Performance of KNN Model')\n",
        "plt.ylim(0, max(values) + 0.05 * max(values))  # Add some margin on top\n",
        "\n",
        "for index, value in enumerate(values):\n",
        "    plt.text(index, value + 0.01, f\"{value:.4f}\", ha='center')\n",
        "\n",
        "plt.show()\n",
        "\n",
        "print(f\"Test MAE: {test_mae}\\nTest RMSE: {test_rmse}\")"
      ]
    },
    {
      "cell_type": "markdown",
      "metadata": {},
      "source": [
        "**Our KNN benchmark model got 0.607 RMSE score**"
      ]
    },
    {
      "cell_type": "markdown",
      "metadata": {},
      "source": [
        "### **Results and conclusions**"
      ]
    },
    {
      "cell_type": "markdown",
      "metadata": {},
      "source": [
        "**After reviewing our experimental data, we've come to several conclusions about our character-level Siamese network models:**\n",
        "\n",
        "- **Baseline Comparison**: Our initial baseline model, a K-Nearest Neighbors (KNN) implementation, provided us with a rudimentary understanding of the problem complexity, as evidenced by its comparatively higher loss and RMSE on both validation and test sets.\n",
        "\n",
        "- **Learning Rate Observations**: We noticed a clear pattern in learning rate effectiveness. Models with lower learning rates, particularly 0.0001, consistently outperformed those with higher rates on RMSE and MAE metrics across validation and test sets. This trend underscores the importance of a carefully chosen learning rate to balance convergence speed and training stability.\n",
        "\n",
        "- **Batch Size Effects**: An intriguing find was the performance of models with differing batch sizes. For instance, EX.8 with a larger batch size of 128 narrowly surpassed the model EX.6 with a batch size of 32, especially in validation loss and RMSE. This observation leads us to believe that our model may benefit from larger batch sizes, possibly due to better gradient estimation.\n",
        "\n",
        "- **Padding and Complexity**: When we adjusted the max_pad_size to 888 (the avarage length of the sequences), we saw that models like EX.8 and EX.9 didn't just keep up but actually improved in comparison to those with the max_pad_size of 5516 (the maximal length of the sequences). This could imply that reducing input sequence length—thus reducing complexity—can be advantageous for our task without compromising performance.\n",
        "\n",
        "- **Overall Performance**: Across the board, model EX.8 stood out with its consistent performance. It struck a fine balance between generalization and overfitting, as suggested by its training, validation, and test scores. It achieves this balance with a modest runtime, reasonable complexity, and lower validation and test RMSEs and MAEs compared to the others.\n",
        "\n",
        "**In summary, our meticulous approach to hyperparameter tuning led us to model EX.8 as our model of choice. This model exhibits strong generalization capabilities without being prohibitively costly in terms of training time, marking a significant step forward from our initial KNN baseline.**"
      ]
    },
    {
      "attachments": {
        "image.png": {
          "image/png": "[encoded data removed]"
        }
      },
      "cell_type": "markdown",
      "metadata": {},
      "source": [
        "**Results of the experiments**\n",
        "\n",
        "![image.png](attachment:image.png)"
      ]
    },
    {
      "cell_type": "markdown",
      "metadata": {},
      "source": [
        "_______________________________________________________________________________________________________"
      ]
    },
    {
      "cell_type": "markdown",
      "metadata": {},
      "source": [
        "## **Task 2 - Word/byte-pair embeddings and word/byte-pair level model**"
      ]
    },
    {
      "cell_type": "markdown",
      "metadata": {
        "id": "Rcnx1RCQfFSV"
      },
      "source": [
        "### **2.a. - Word/ byte level preprocessing**"
      ]
    },
    {
      "cell_type": "markdown",
      "metadata": {
        "id": "RKc9AWUafFSV"
      },
      "source": [
        "Tokenization\n",
        "- removing stopwords from search terms will provide a loss of information as they are very short.\n",
        "- From product descriptions we will remove stopwords.\n",
        "- We will remove special characters like periods,parantheses etc."
      ]
    },
    {
      "cell_type": "code",
      "execution_count": null,
      "metadata": {
        "execution": {
          "iopub.execute_input": "2024-03-14T19:20:56.480342Z",
          "iopub.status.busy": "2024-03-14T19:20:56.479583Z",
          "iopub.status.idle": "2024-03-14T19:20:56.488773Z",
          "shell.execute_reply": "2024-03-14T19:20:56.487579Z",
          "shell.execute_reply.started": "2024-03-14T19:20:56.480310Z"
        },
        "id": "HoTJoSfCfFSV",
        "trusted": true
      },
      "outputs": [],
      "source": [
        "stop_words = set(stopwords.words('english'))\n",
        "def get_tokens(text,remove_stopwords=False):\n",
        "    text = text.lower()\n",
        "    text = text.replace('.', ' ')\n",
        "    text = text.replace(',', ' ')\n",
        "    text = text.replace(';', ' ')\n",
        "    text = text.replace(':', ' ')\n",
        "    text = text.replace('&nbsp', ' ')\n",
        "    text = text.replace('(', ' ')\n",
        "    text = text.replace(')', ' ')\n",
        "    text = text.replace('\"', ' ')\n",
        "\n",
        "    tokens = text.split(' ')\n",
        "    if remove_stopwords:\n",
        "        tokens = [token for token in tokens if token not in stop_words and token != '']\n",
        "    return tokens"
      ]
    },
    {
      "cell_type": "code",
      "execution_count": null,
      "metadata": {
        "execution": {
          "iopub.execute_input": "2024-03-14T19:20:59.232933Z",
          "iopub.status.busy": "2024-03-14T19:20:59.232582Z",
          "iopub.status.idle": "2024-03-14T19:21:10.590973Z",
          "shell.execute_reply": "2024-03-14T19:21:10.589702Z",
          "shell.execute_reply.started": "2024-03-14T19:20:59.232909Z"
        },
        "id": "EEZDFjkjfFSV",
        "outputId": "3702e5d0-be81-4b67-91b4-534fb1dc5a6e",
        "trusted": true
      },
      "outputs": [
        {
          "data": {
            "text/html": [
              "<div>\n",
              "<style scoped>\n",
              "    .dataframe tbody tr th:only-of-type {\n",
              "        vertical-align: middle;\n",
              "    }\n",
              "\n",
              "    .dataframe tbody tr th {\n",
              "        vertical-align: top;\n",
              "    }\n",
              "\n",
              "    .dataframe thead th {\n",
              "        text-align: right;\n",
              "    }\n",
              "</style>\n",
              "<table border=\"1\" class=\"dataframe\">\n",
              "  <thead>\n",
              "    <tr style=\"text-align: right;\">\n",
              "      <th></th>\n",
              "      <th>id</th>\n",
              "      <th>product_uid</th>\n",
              "      <th>search_term</th>\n",
              "      <th>relevance</th>\n",
              "      <th>product_description</th>\n",
              "    </tr>\n",
              "  </thead>\n",
              "  <tbody>\n",
              "    <tr>\n",
              "      <th>0</th>\n",
              "      <td>2</td>\n",
              "      <td>100001</td>\n",
              "      <td>[angle, bracket]</td>\n",
              "      <td>3.00</td>\n",
              "      <td>[angles, make, joints, stronger, also, provide...</td>\n",
              "    </tr>\n",
              "    <tr>\n",
              "      <th>1</th>\n",
              "      <td>3</td>\n",
              "      <td>100001</td>\n",
              "      <td>[l, bracket]</td>\n",
              "      <td>2.50</td>\n",
              "      <td>[angles, make, joints, stronger, also, provide...</td>\n",
              "    </tr>\n",
              "    <tr>\n",
              "      <th>2</th>\n",
              "      <td>9</td>\n",
              "      <td>100002</td>\n",
              "      <td>[deck, over]</td>\n",
              "      <td>3.00</td>\n",
              "      <td>[behr, premium, textured, deckover, innovative...</td>\n",
              "    </tr>\n",
              "    <tr>\n",
              "      <th>3</th>\n",
              "      <td>16</td>\n",
              "      <td>100005</td>\n",
              "      <td>[rain, shower, head]</td>\n",
              "      <td>2.33</td>\n",
              "      <td>[update, bathroom, delta, vero, single-handle,...</td>\n",
              "    </tr>\n",
              "    <tr>\n",
              "      <th>4</th>\n",
              "      <td>17</td>\n",
              "      <td>100005</td>\n",
              "      <td>[shower, only, faucet]</td>\n",
              "      <td>2.67</td>\n",
              "      <td>[update, bathroom, delta, vero, single-handle,...</td>\n",
              "    </tr>\n",
              "  </tbody>\n",
              "</table>\n",
              "</div>"
            ],
            "text/plain": [
              "   id  product_uid             search_term  relevance  \\\n",
              "0   2       100001        [angle, bracket]       3.00   \n",
              "1   3       100001            [l, bracket]       2.50   \n",
              "2   9       100002            [deck, over]       3.00   \n",
              "3  16       100005    [rain, shower, head]       2.33   \n",
              "4  17       100005  [shower, only, faucet]       2.67   \n",
              "\n",
              "                                 product_description  \n",
              "0  [angles, make, joints, stronger, also, provide...  \n",
              "1  [angles, make, joints, stronger, also, provide...  \n",
              "2  [behr, premium, textured, deckover, innovative...  \n",
              "3  [update, bathroom, delta, vero, single-handle,...  \n",
              "4  [update, bathroom, delta, vero, single-handle,...  "
            ]
          },
          "execution_count": 184,
          "metadata": {},
          "output_type": "execute_result"
        }
      ],
      "source": [
        "train, test = load_data()\n",
        "train['search_term'] = [get_tokens(x) for x in train['search_term']]\n",
        "test['search_term'] = [get_tokens(x) for x in test['search_term']]\n",
        "train['product_description'] = [get_tokens(x,remove_stopwords=True) for x in train['product_description']]\n",
        "test['product_description'] = [get_tokens(x,remove_stopwords=True) for x in test['product_description']]\n",
        "train.head()"
      ]
    },
    {
      "cell_type": "markdown",
      "metadata": {
        "id": "WmEix4jhfFSW"
      },
      "source": [
        "Create the vocabulary containing all the possible words"
      ]
    },
    {
      "cell_type": "code",
      "execution_count": null,
      "metadata": {
        "execution": {
          "iopub.execute_input": "2024-03-14T19:21:10.593487Z",
          "iopub.status.busy": "2024-03-14T19:21:10.593082Z",
          "iopub.status.idle": "2024-03-14T19:21:12.108593Z",
          "shell.execute_reply": "2024-03-14T19:21:12.107704Z",
          "shell.execute_reply.started": "2024-03-14T19:21:10.593452Z"
        },
        "id": "crj5ZIFefFSW",
        "trusted": true
      },
      "outputs": [],
      "source": [
        "def get_all_text(df):\n",
        "    search_terms = df['search_term'].to_numpy()\n",
        "    prod_descs = df['product_description'].to_numpy()\n",
        "    return np.concatenate([search_terms,prod_descs])\n",
        "\n",
        "train_vocab, test_vocab = load_data()\n",
        "all_text = np.concatenate([get_all_text(train_vocab),get_all_text(test_vocab)])"
      ]
    },
    {
      "cell_type": "code",
      "execution_count": null,
      "metadata": {
        "execution": {
          "iopub.execute_input": "2024-03-14T19:21:12.110516Z",
          "iopub.status.busy": "2024-03-14T19:21:12.110212Z",
          "iopub.status.idle": "2024-03-14T19:21:38.135175Z",
          "shell.execute_reply": "2024-03-14T19:21:38.134099Z",
          "shell.execute_reply.started": "2024-03-14T19:21:12.110491Z"
        },
        "id": "KmtgJbtrfFSW",
        "trusted": true
      },
      "outputs": [],
      "source": [
        "tokenizer = Tokenizer(char_level=False)\n",
        "tokenizer.fit_on_texts(all_text)"
      ]
    },
    {
      "cell_type": "markdown",
      "metadata": {
        "id": "lA3HNBh5fFSW"
      },
      "source": [
        "Now that we have a vocabulary, we can convert text to sequences, each word gets a unique identifier"
      ]
    },
    {
      "cell_type": "code",
      "execution_count": null,
      "metadata": {
        "execution": {
          "iopub.execute_input": "2024-03-14T19:21:38.137353Z",
          "iopub.status.busy": "2024-03-14T19:21:38.137026Z",
          "iopub.status.idle": "2024-03-14T19:21:47.934350Z",
          "shell.execute_reply": "2024-03-14T19:21:47.933362Z",
          "shell.execute_reply.started": "2024-03-14T19:21:38.137325Z"
        },
        "id": "2TkPDpIlfFSX",
        "outputId": "25adcdc4-fdee-49f7-d389-30a8349ef846",
        "trusted": true
      },
      "outputs": [
        {
          "data": {
            "text/html": [
              "<div>\n",
              "<style scoped>\n",
              "    .dataframe tbody tr th:only-of-type {\n",
              "        vertical-align: middle;\n",
              "    }\n",
              "\n",
              "    .dataframe tbody tr th {\n",
              "        vertical-align: top;\n",
              "    }\n",
              "\n",
              "    .dataframe thead th {\n",
              "        text-align: right;\n",
              "    }\n",
              "</style>\n",
              "<table border=\"1\" class=\"dataframe\">\n",
              "  <thead>\n",
              "    <tr style=\"text-align: right;\">\n",
              "      <th></th>\n",
              "      <th>id</th>\n",
              "      <th>product_uid</th>\n",
              "      <th>search_term</th>\n",
              "      <th>relevance</th>\n",
              "      <th>product_description</th>\n",
              "    </tr>\n",
              "  </thead>\n",
              "  <tbody>\n",
              "    <tr>\n",
              "      <th>0</th>\n",
              "      <td>2</td>\n",
              "      <td>100001</td>\n",
              "      <td>[769, 973]</td>\n",
              "      <td>3.00</td>\n",
              "      <td>[2808, 192, 1391, 1993, 118, 70, 1073, 993, 10...</td>\n",
              "    </tr>\n",
              "    <tr>\n",
              "      <th>1</th>\n",
              "      <td>3</td>\n",
              "      <td>100001</td>\n",
              "      <td>[798, 973]</td>\n",
              "      <td>2.50</td>\n",
              "      <td>[2808, 192, 1391, 1993, 118, 70, 1073, 993, 10...</td>\n",
              "    </tr>\n",
              "    <tr>\n",
              "      <th>2</th>\n",
              "      <td>9</td>\n",
              "      <td>100002</td>\n",
              "      <td>[413, 133]</td>\n",
              "      <td>3.00</td>\n",
              "      <td>[1105, 330, 927, 9591, 896, 174, 86, 515, 892,...</td>\n",
              "    </tr>\n",
              "    <tr>\n",
              "      <th>3</th>\n",
              "      <td>16</td>\n",
              "      <td>100005</td>\n",
              "      <td>[1013, 125, 321]</td>\n",
              "      <td>2.33</td>\n",
              "      <td>[2166, 237, 1247, 9408, 125, 230, 199, 110, 39...</td>\n",
              "    </tr>\n",
              "    <tr>\n",
              "      <th>4</th>\n",
              "      <td>17</td>\n",
              "      <td>100005</td>\n",
              "      <td>[125, 151, 230]</td>\n",
              "      <td>2.67</td>\n",
              "      <td>[2166, 237, 1247, 9408, 125, 230, 199, 110, 39...</td>\n",
              "    </tr>\n",
              "  </tbody>\n",
              "</table>\n",
              "</div>"
            ],
            "text/plain": [
              "   id  product_uid       search_term  relevance  \\\n",
              "0   2       100001        [769, 973]       3.00   \n",
              "1   3       100001        [798, 973]       2.50   \n",
              "2   9       100002        [413, 133]       3.00   \n",
              "3  16       100005  [1013, 125, 321]       2.33   \n",
              "4  17       100005   [125, 151, 230]       2.67   \n",
              "\n",
              "                                 product_description  \n",
              "0  [2808, 192, 1391, 1993, 118, 70, 1073, 993, 10...  \n",
              "1  [2808, 192, 1391, 1993, 118, 70, 1073, 993, 10...  \n",
              "2  [1105, 330, 927, 9591, 896, 174, 86, 515, 892,...  \n",
              "3  [2166, 237, 1247, 9408, 125, 230, 199, 110, 39...  \n",
              "4  [2166, 237, 1247, 9408, 125, 230, 199, 110, 39...  "
            ]
          },
          "execution_count": 187,
          "metadata": {},
          "output_type": "execute_result"
        }
      ],
      "source": [
        "train['search_term'] = tokenizer.texts_to_sequences(train['search_term'])\n",
        "train['product_description'] = tokenizer.texts_to_sequences(train['product_description'])\n",
        "test['search_term'] = tokenizer.texts_to_sequences(test['search_term'])\n",
        "test['product_description'] = tokenizer.texts_to_sequences(test['product_description'])\n",
        "train.head()"
      ]
    },
    {
      "cell_type": "markdown",
      "metadata": {
        "id": "0d0685mEfFSX"
      },
      "source": [
        "The following is a helper function to calculate min max and average for the sequences"
      ]
    },
    {
      "cell_type": "code",
      "execution_count": null,
      "metadata": {
        "execution": {
          "iopub.execute_input": "2024-03-14T19:21:52.780404Z",
          "iopub.status.busy": "2024-03-14T19:21:52.779659Z",
          "iopub.status.idle": "2024-03-14T19:21:52.789722Z",
          "shell.execute_reply": "2024-03-14T19:21:52.788727Z",
          "shell.execute_reply.started": "2024-03-14T19:21:52.780371Z"
        },
        "id": "09k6BKPYfFSX",
        "trusted": true
      },
      "outputs": [],
      "source": [
        "def calculate_min_max_average(list_one, list_two):\n",
        "    min_length = float('inf')  # Initialize with infinity\n",
        "    max_length = -float('inf')  # Initialize with negative infinity\n",
        "    total_length = 0\n",
        "    total_count = 0  # Keep track of the total number of items\n",
        "\n",
        "    # Function to update min, max, and sum based on item type\n",
        "    def update_stats(item):\n",
        "        nonlocal min_length, max_length, total_length\n",
        "        if isinstance(item, (list, str)):  # Check if item is a list or a string\n",
        "            length = len(item)\n",
        "        elif isinstance(item, (int, float)):  # Check if item is a number\n",
        "            length = item  # Treat the number as its own length\n",
        "        else:\n",
        "            return  # Skip items that are neither list, string, nor number\n",
        "\n",
        "        total_length += length\n",
        "        if length < min_length:\n",
        "            min_length = length\n",
        "        if length > max_length:\n",
        "            max_length = length\n",
        "\n",
        "    # Iterate through both lists, updating stats\n",
        "    for item in list_one:\n",
        "        update_stats(item)\n",
        "        total_count += 1  # Increment total count for each processed item\n",
        "    for item in list_two:\n",
        "        update_stats(item)\n",
        "        total_count += 1\n",
        "\n",
        "    if total_count == 0:  # Prevent division by zero\n",
        "        return 0, 0, 0\n",
        "    if min_length == float('inf'):  # If min_length was never updated\n",
        "        min_length = 0\n",
        "    if max_length == -float('inf'):  # If max_length was never updated\n",
        "        max_length = 0\n",
        "\n",
        "    average_length = total_length // total_count  # Calculate average\n",
        "\n",
        "    return min_length, max_length, average_length"
      ]
    },
    {
      "cell_type": "code",
      "execution_count": null,
      "metadata": {
        "execution": {
          "iopub.execute_input": "2024-03-14T19:21:54.951673Z",
          "iopub.status.busy": "2024-03-14T19:21:54.951315Z",
          "iopub.status.idle": "2024-03-14T19:21:55.275558Z",
          "shell.execute_reply": "2024-03-14T19:21:55.274602Z",
          "shell.execute_reply.started": "2024-03-14T19:21:54.951643Z"
        },
        "id": "XzE2E_DNfFSX",
        "outputId": "b0cf2776-ad60-4136-847c-37cfc7678a59",
        "trusted": true
      },
      "outputs": [
        {
          "name": "stdout",
          "output_type": "stream",
          "text": [
            "Seach Term : min:0, max:13, avg:3\n",
            "Product Description : min:1, max:565, avg:88\n"
          ]
        }
      ],
      "source": [
        "search_term_min, search_term_max, search_term_avg = calculate_min_max_average(train['search_term'],test['search_term'])\n",
        "prod_des_min, prod_des_max, prod_des_avg = calculate_min_max_average(train['product_description'],test['product_description'])\n",
        "print(f\"Seach Term : min:{search_term_min}, max:{search_term_max}, avg:{search_term_avg}\")\n",
        "print(f\"Product Description : min:{prod_des_min}, max:{prod_des_max}, avg:{prod_des_avg}\")"
      ]
    },
    {
      "cell_type": "markdown",
      "metadata": {
        "id": "a-B5deqLfFSX"
      },
      "source": [
        "We can see the ranges between search term and product descriptions are very large.<br>\n",
        "We will choose to pad to the average because:\n",
        "- Memory efficency\n",
        "- padding to the maximum length can introduce a large amount of noise into the model.\n",
        "- balance between computational efficiency and retaining meaningful information from the sequences, leading to faster training and inference times without significantly compromising the model's performance."
      ]
    },
    {
      "cell_type": "code",
      "execution_count": null,
      "metadata": {
        "id": "PhWLyfrkfFSX",
        "trusted": true
      },
      "outputs": [],
      "source": [
        "from keras.preprocessing.sequence import pad_sequences\n",
        "\n",
        "def pad_seq(df,pad_len):\n",
        "    df['search_term'] = [x for x in pad_sequences(df['search_term'], maxlen=pad_len, padding='post')]\n",
        "    df['product_description'] = [x for x in pad_sequences(df['product_description'], maxlen=pad_len, padding='post')]\n",
        "    return df\n",
        "\n",
        "max_pad_size = prod_des_avg if prod_des_avg > search_term_avg else search_term_avg\n",
        "\n",
        "print(f\"max_pad_size:{max_pad_size}\")\n",
        "train = pad_seq(train, max_pad_size)\n",
        "test = pad_seq(test, max_pad_size)"
      ]
    },
    {
      "cell_type": "markdown",
      "metadata": {
        "id": "j5bvL2GefFSY"
      },
      "source": [
        "As a validation technique we will use regular split with p=0.2.<br>\n",
        "The split is stratified to have a uniform distribution over the imbalanced classes."
      ]
    },
    {
      "cell_type": "code",
      "execution_count": null,
      "metadata": {
        "execution": {
          "iopub.execute_input": "2024-03-14T19:22:09.290221Z",
          "iopub.status.busy": "2024-03-14T19:22:09.289322Z",
          "iopub.status.idle": "2024-03-14T19:22:09.451981Z",
          "shell.execute_reply": "2024-03-14T19:22:09.450998Z",
          "shell.execute_reply.started": "2024-03-14T19:22:09.290189Z"
        },
        "id": "-oBiPuXffFSY",
        "outputId": "52cfb317-a994-41ef-e25c-9bc9c46ae464",
        "trusted": true
      },
      "outputs": [
        {
          "name": "stdout",
          "output_type": "stream",
          "text": [
            "X_train: (59253, 2), X_val: (14814, 2), X_test: (112067, 2)\n",
            "y_train: (59253,), y_val: (14814,), y_test: (112067,)\n"
          ]
        }
      ],
      "source": [
        "X_train = train.drop(['id','product_uid','relevance'], axis=1)\n",
        "y_train = train['relevance']\n",
        "\n",
        "X_test = test.drop(['id','product_uid','relevance'], axis=1)\n",
        "y_test = test['relevance']\n",
        "\n",
        "X_train, X_val, y_train, y_val = train_test_split(X_train, y_train, test_size=0.2, stratify=y_train, random_state=42)\n",
        "print(f\"X_train: {X_train.shape}, X_val: {X_val.shape}, X_test: {X_test.shape}\")\n",
        "print(f\"y_train: {y_train.shape}, y_val: {y_val.shape}, y_test: {y_test.shape}\")"
      ]
    },
    {
      "cell_type": "code",
      "execution_count": null,
      "metadata": {
        "execution": {
          "iopub.execute_input": "2024-03-14T19:22:11.947525Z",
          "iopub.status.busy": "2024-03-14T19:22:11.946753Z",
          "iopub.status.idle": "2024-03-14T19:22:11.954676Z",
          "shell.execute_reply": "2024-03-14T19:22:11.953547Z",
          "shell.execute_reply.started": "2024-03-14T19:22:11.947491Z"
        },
        "id": "OR_QOqkxfFSY",
        "trusted": true
      },
      "outputs": [],
      "source": [
        "def get_dataset_dataloader(x,y,batch_size=32,shuffle=False):\n",
        "    X_search_np = np.array(x['search_term'].values.tolist()).astype(np.int64)\n",
        "    X_desc_np = np.array(x['product_description'].values.tolist()).astype(np.int64)\n",
        "    y_np = np.array(y, dtype=np.float32)\n",
        "\n",
        "    X_search_tensor = torch.tensor(X_search_np, dtype=torch.long)\n",
        "    X_desc_tensor = torch.tensor(X_desc_np, dtype=torch.long)\n",
        "    y_tensor = torch.tensor(y_np, dtype=torch.float32)\n",
        "\n",
        "    dataset = TensorDataset(X_search_tensor, X_desc_tensor, y_tensor)\n",
        "    dataloader = DataLoader(dataset, batch_size=batch_size, shuffle=shuffle)\n",
        "    return dataset,dataloader"
      ]
    },
    {
      "cell_type": "markdown",
      "metadata": {},
      "source": [
        "### **2.b. - Word/byte model**"
      ]
    },
    {
      "cell_type": "markdown",
      "metadata": {
        "id": "NMz_GjMSfFSY"
      },
      "source": [
        "- The following model description is our base model upon which we will experiment with different hyperparameters if needed.<br>\n",
        "- The preprocessing or the model code will be changed and re-runned(instead of copy/paste to new cells).<br>\n",
        "- Every single change is logged using Neptune and will be presented at the next section.<br>\n",
        "\n",
        "Architecture:\n",
        "- Embedding->Conv1->MP->Conv1->MP->FC\n",
        "- nn.Embedding : transform discrete input (such as indices from a vocabulary in natural language processing or categorical features in other domains) into dense vector representations.\n",
        "- nn.Conv1d :  dealing with sequential data.\n",
        "- nn.MaxPool1d : reduce the dimensionality of the data passing through them\n",
        "- nn.Linear : After flattening a dense layer is used to map the extracted features to a new space.\n",
        "\n",
        "Specifics:\n",
        "- MSE Loss\n",
        "- Dot product similarity : simple,efficent, good basis to start.\n",
        "- scaling the dot product by 3 to the proper label range(1-3).\n",
        "\n",
        "Hyperparamters:\n",
        "- Epochs : 5\n",
        "- max_pad_size: 88\n",
        "- embedding size: 8\n",
        "- Adam, learning rate: 0.001\n",
        "- batch size: 32\n",
        "- Convolutional channels : 16, 32"
      ]
    },
    {
      "cell_type": "code",
      "execution_count": null,
      "metadata": {
        "execution": {
          "iopub.execute_input": "2024-03-14T19:26:43.619297Z",
          "iopub.status.busy": "2024-03-14T19:26:43.618837Z",
          "iopub.status.idle": "2024-03-14T19:26:43.630819Z",
          "shell.execute_reply": "2024-03-14T19:26:43.629665Z",
          "shell.execute_reply.started": "2024-03-14T19:26:43.619261Z"
        },
        "id": "k9gT_kMTfFSZ",
        "trusted": true
      },
      "outputs": [],
      "source": [
        "class SiameseNetwork(nn.Module):\n",
        "    def __init__(self, words_size, max_pad_size,embedding_dim, channels):\n",
        "        super(SiameseNetwork, self).__init__()\n",
        "        self.embedding = nn.Embedding(words_size, embedding_dim)\n",
        "        self.conv1 = nn.Conv1d(in_channels=embedding_dim, out_channels=channels[0], kernel_size=3, padding=1)\n",
        "        self.pool = nn.MaxPool1d(kernel_size=2)\n",
        "        self.conv2 = nn.Conv1d(in_channels=channels[0], out_channels=channels[1], kernel_size=3, padding=1)\n",
        "        self.dense = nn.Linear(embedding_dim * max_pad_size, 64)\n",
        "\n",
        "    def forward_once(self, x):\n",
        "        \"\"\"Process an input through the network's layers.\"\"\"\n",
        "        x = self.embedding(x)\n",
        "        x = x.permute(0, 2, 1)  # Rearrange the output for Conv1d: (batch_size, channels, sequence_length)\n",
        "        x = F.relu(self.conv1(x))\n",
        "        x = self.pool(x)\n",
        "        x = F.relu(self.conv2(x))\n",
        "        x = self.pool(x)\n",
        "        x = torch.flatten(x, start_dim=1)  # Flatten the output for the dense layer\n",
        "        x = F.relu(self.dense(x))\n",
        "        return x\n",
        "\n",
        "    def forward(self, input1, input2):\n",
        "        \"\"\"Compute the embeddings for two inputs and their similarity.\"\"\"\n",
        "        # Process each input through the same network\n",
        "        output1 = self.forward_once(input1)\n",
        "        output2 = self.forward_once(input2)\n",
        "\n",
        "        # Compute the similarity\n",
        "        similarity = torch.sum(output1 * output2, dim=1, keepdim=True)\n",
        "        similarity = 3 * similarity\n",
        "        return similarity"
      ]
    },
    {
      "cell_type": "code",
      "execution_count": null,
      "metadata": {
        "execution": {
          "iopub.execute_input": "2024-03-14T19:26:46.174764Z",
          "iopub.status.busy": "2024-03-14T19:26:46.174005Z",
          "iopub.status.idle": "2024-03-14T19:26:46.191872Z",
          "shell.execute_reply": "2024-03-14T19:26:46.190922Z",
          "shell.execute_reply.started": "2024-03-14T19:26:46.174724Z"
        },
        "id": "cvhc5cePfFSZ",
        "trusted": true
      },
      "outputs": [],
      "source": [
        "def run_training(model,train_loader,val_loader,optimizer,criterion,num_epochs):\n",
        "    for epoch in range(num_epochs):\n",
        "        model.train()\n",
        "        total_loss = 0\n",
        "        train_y_pred = []\n",
        "        train_y_true = []\n",
        "\n",
        "        for X_search_batch, X_des_batch, y_batch in train_loader:\n",
        "            X_search_batch, X_des_batch, y_batch = X_search_batch.to(device), X_des_batch.to(device), y_batch.to(device)\n",
        "            optimizer.zero_grad()\n",
        "            outputs = model(X_search_batch, X_des_batch)\n",
        "            loss = criterion(outputs, y_batch.unsqueeze(1))\n",
        "            loss.backward()\n",
        "            optimizer.step()\n",
        "            total_loss += loss.item() * X_search_batch.size(0)\n",
        "\n",
        "            # Collect for metrics calculation\n",
        "            train_y_pred.append(outputs.detach())\n",
        "            train_y_true.append(y_batch.detach())\n",
        "\n",
        "        # Concatenate all batches for metrics calculation\n",
        "        train_y_pred = torch.cat(train_y_pred).view(-1)\n",
        "        train_y_true = torch.cat(train_y_true).view(-1)\n",
        "\n",
        "        # Calculate RMSE and MAE for training\n",
        "        train_rmse = torch.sqrt(torch.mean((train_y_true - train_y_pred) ** 2))\n",
        "        train_mae = torch.mean(torch.abs(train_y_true - train_y_pred))\n",
        "        run[\"train/loss\"].append(total_loss / len(train_loader.dataset))\n",
        "        run[\"train/RMSE\"].append(train_rmse.item())\n",
        "        run[\"train/MAE\"].append(train_mae.item())\n",
        "        print(f'Epoch {epoch+1}, Loss: {total_loss / len(train_loader.dataset)}, Train RMSE: {train_rmse.item()}, Train MAE: {train_mae.item()}')\n",
        "\n",
        "        # Validation phase\n",
        "        model.eval()\n",
        "        total_val_loss = 0\n",
        "        val_y_pred = []\n",
        "        val_y_true = []\n",
        "\n",
        "        with torch.no_grad():\n",
        "            for X_search_batch, X_des_batch, y_batch in val_loader:\n",
        "                X_search_batch, X_des_batch, y_batch = X_search_batch.to(device), X_des_batch.to(device), y_batch.to(device)\n",
        "                outputs = model(X_search_batch, X_des_batch)\n",
        "                val_loss = criterion(outputs, y_batch.unsqueeze(1))\n",
        "                total_val_loss += val_loss.item() * X_search_batch.size(0)\n",
        "\n",
        "                # Collect for metrics calculation\n",
        "                val_y_pred.append(outputs.detach())\n",
        "                val_y_true.append(y_batch.detach())\n",
        "\n",
        "        # Concatenate all batches for metrics calculation\n",
        "        val_y_pred = torch.cat(val_y_pred).view(-1)\n",
        "        val_y_true = torch.cat(val_y_true).view(-1)\n",
        "\n",
        "        # Calculate RMSE and MAE for validation\n",
        "        val_rmse = torch.sqrt(torch.mean((val_y_true - val_y_pred) ** 2))\n",
        "        val_mae = torch.mean(torch.abs(val_y_true - val_y_pred))\n",
        "        run[\"val/loss\"].append(total_val_loss / len(val_loader.dataset))\n",
        "        run[\"val/RMSE\"].append(val_rmse.item())\n",
        "        run[\"val/MAE\"].append(val_mae.item())\n",
        "        print(f'Validation Loss: {total_val_loss / len(val_loader.dataset)}, Val RMSE: {val_rmse.item()}, Val MAE: {val_mae.item()}\\n')"
      ]
    },
    {
      "cell_type": "code",
      "execution_count": null,
      "metadata": {
        "execution": {
          "iopub.execute_input": "2024-03-14T19:26:48.513838Z",
          "iopub.status.busy": "2024-03-14T19:26:48.513448Z",
          "iopub.status.idle": "2024-03-14T19:26:48.524327Z",
          "shell.execute_reply": "2024-03-14T19:26:48.523222Z",
          "shell.execute_reply.started": "2024-03-14T19:26:48.513807Z"
        },
        "id": "hSONjFpofFSZ",
        "trusted": true
      },
      "outputs": [],
      "source": [
        "def run_test(model,test_loader,criterion):\n",
        "    model.eval()\n",
        "    total_test_loss = 0\n",
        "    test_y_pred = []\n",
        "    test_y_true = []\n",
        "\n",
        "    with torch.no_grad():\n",
        "        for X_search_batch, X_des_batch, y_batch in test_loader:\n",
        "            X_search_batch, X_des_batch, y_batch = X_search_batch.to(device), X_des_batch.to(device), y_batch.to(device)\n",
        "            outputs = model(X_search_batch, X_des_batch)\n",
        "            test_loss = criterion(outputs, y_batch.unsqueeze(1))\n",
        "            total_test_loss += test_loss.item() * X_search_batch.size(0)\n",
        "\n",
        "            # Collect for metrics calculation\n",
        "            test_y_pred.append(outputs.detach())\n",
        "            test_y_true.append(y_batch.detach())\n",
        "\n",
        "    # Concatenate all batches for metrics calculation\n",
        "    test_y_pred = torch.cat(test_y_pred).view(-1)\n",
        "    test_y_true = torch.cat(test_y_true).view(-1)\n",
        "\n",
        "    # Calculate RMSE and MAE for test\n",
        "    test_rmse = torch.sqrt(torch.mean((test_y_true - test_y_pred) ** 2))\n",
        "    test_mae = torch.mean(torch.abs(test_y_true - test_y_pred))\n",
        "    run[\"test/loss\"].append(total_test_loss / len(test_loader.dataset))\n",
        "    run[\"test/RMSE\"].append(test_rmse.item())\n",
        "    run[\"test/MAE\"].append(test_mae.item())\n",
        "    print(f'Test Loss: {total_test_loss / len(test_loader.dataset)}, test RMSE: {test_rmse.item()}, test MAE: {test_mae.item()}\\n')"
      ]
    },
    {
      "cell_type": "code",
      "execution_count": null,
      "metadata": {
        "execution": {
          "iopub.execute_input": "2024-03-14T19:26:51.064839Z",
          "iopub.status.busy": "2024-03-14T19:26:51.063987Z",
          "iopub.status.idle": "2024-03-14T19:26:51.069812Z",
          "shell.execute_reply": "2024-03-14T19:26:51.068771Z",
          "shell.execute_reply.started": "2024-03-14T19:26:51.064805Z"
        },
        "id": "HTB0JjnWfFSa",
        "trusted": true
      },
      "outputs": [],
      "source": [
        "# define hyperparameters\n",
        "word_size = len(tokenizer.word_index) + 1\n",
        "embed_dim = 8\n",
        "criterion = nn.MSELoss()\n",
        "lr=0.0001\n",
        "batch_size = 64\n",
        "num_epochs = 10\n",
        "channels = [16,32]"
      ]
    },
    {
      "cell_type": "code",
      "execution_count": null,
      "metadata": {
        "execution": {
          "iopub.execute_input": "2024-03-14T19:26:52.923421Z",
          "iopub.status.busy": "2024-03-14T19:26:52.922810Z",
          "iopub.status.idle": "2024-03-14T19:26:53.475124Z",
          "shell.execute_reply": "2024-03-14T19:26:53.474309Z",
          "shell.execute_reply.started": "2024-03-14T19:26:52.923389Z"
        },
        "id": "rgIwqYDXfFSa",
        "trusted": true
      },
      "outputs": [],
      "source": [
        "train_dataset, train_dataloader = get_dataset_dataloader(X_train, y_train, batch_size=batch_size, shuffle=True)\n",
        "val_dataset, val_dataloader = get_dataset_dataloader(X_val, y_val, batch_size=batch_size, shuffle=False)\n",
        "test_dataset, test_dataloader = get_dataset_dataloader(X_test, y_test, batch_size=batch_size, shuffle=False)"
      ]
    },
    {
      "cell_type": "code",
      "execution_count": null,
      "metadata": {
        "execution": {
          "iopub.execute_input": "2024-03-14T19:26:59.465049Z",
          "iopub.status.busy": "2024-03-14T19:26:59.464673Z",
          "iopub.status.idle": "2024-03-14T19:27:53.700398Z",
          "shell.execute_reply": "2024-03-14T19:27:53.699377Z",
          "shell.execute_reply.started": "2024-03-14T19:26:59.465018Z"
        },
        "id": "gjK99CzTfFSa",
        "outputId": "26cb4333-d7a9-4992-ae57-9333018d02bc",
        "trusted": true
      },
      "outputs": [
        {
          "name": "stdout",
          "output_type": "stream",
          "text": [
            "[neptune] [info   ] Neptune initialized. Open in the app: https://app.neptune.ai/rovo/dl-workshop-3/e/DLWOR-58\n",
            "Epoch 1, Loss: 0.3151697922235376, Train RMSE: 0.5613998174667358, Train MAE: 0.4604223370552063\n",
            "Validation Loss: 0.29936882661183034, Val RMSE: 0.5471460819244385, Val MAE: 0.4486728012561798\n",
            "\n",
            "Epoch 2, Loss: 0.29755274100009754, Train RMSE: 0.5454839468002319, Train MAE: 0.4471855163574219\n",
            "Validation Loss: 0.2953633639241771, Val RMSE: 0.5434734225273132, Val MAE: 0.45063477754592896\n",
            "\n",
            "Epoch 3, Loss: 0.29088201265438657, Train RMSE: 0.539334774017334, Train MAE: 0.44216927886009216\n",
            "Validation Loss: 0.2991571210931312, Val RMSE: 0.5469525456428528, Val MAE: 0.44146421551704407\n",
            "\n",
            "Epoch 4, Loss: 0.28719562564757584, Train RMSE: 0.5359063744544983, Train MAE: 0.43931469321250916\n",
            "Validation Loss: 0.2874848662125078, Val RMSE: 0.5361761450767517, Val MAE: 0.4415002167224884\n",
            "\n",
            "Epoch 5, Loss: 0.28275581488514273, Train RMSE: 0.5317478775978088, Train MAE: 0.4355553686618805\n",
            "Validation Loss: 0.2888966821555556, Val RMSE: 0.5374911427497864, Val MAE: 0.4431309401988983\n",
            "\n",
            "Epoch 6, Loss: 0.2802400862306727, Train RMSE: 0.5293771028518677, Train MAE: 0.4334116578102112\n",
            "Validation Loss: 0.31671174068320246, Val RMSE: 0.5627714991569519, Val MAE: 0.4741583466529846\n",
            "\n",
            "Epoch 7, Loss: 0.2778968140816118, Train RMSE: 0.5271591544151306, Train MAE: 0.43132829666137695\n",
            "Validation Loss: 0.29683701225068704, Val RMSE: 0.5448275208473206, Val MAE: 0.454544335603714\n",
            "\n",
            "Epoch 8, Loss: 0.2732295932247072, Train RMSE: 0.5227136611938477, Train MAE: 0.4278256893157959\n",
            "Validation Loss: 0.2849675155094765, Val RMSE: 0.5338234901428223, Val MAE: 0.4364694058895111\n",
            "\n",
            "Epoch 9, Loss: 0.26927268380712616, Train RMSE: 0.5189149379730225, Train MAE: 0.4243580996990204\n",
            "Validation Loss: 0.28821327231408966, Val RMSE: 0.5368550419807434, Val MAE: 0.43448108434677124\n",
            "\n",
            "Epoch 10, Loss: 0.2676001237693876, Train RMSE: 0.5173007845878601, Train MAE: 0.42276179790496826\n",
            "Validation Loss: 0.28395876791355856, Val RMSE: 0.5328778624534607, Val MAE: 0.4364844560623169\n",
            "\n",
            "Test Loss: 0.29103961038305676, test RMSE: 0.5394808650016785, test MAE: 0.44212761521339417\n",
            "\n",
            "[neptune] [info   ] Shutting down background jobs, please wait a moment...\n",
            "[neptune] [info   ] Done!\n",
            "[neptune] [info   ] Waiting for the remaining 3 operations to synchronize with Neptune. Do not kill this process.\n",
            "[neptune] [info   ] All 3 operations synced, thanks for waiting!\n",
            "[neptune] [info   ] Explore the metadata in the Neptune app: https://app.neptune.ai/rovo/dl-workshop-3/e/DLWOR-58/metadata\n"
          ]
        }
      ],
      "source": [
        "import neptune\n",
        "import time\n",
        "\n",
        "run = neptune.init_run(\n",
        "    project=\"rovo/dl-workshop-3\",\n",
        "    api_token=\"eyJhcGlfYWRkcmVzcyI6Imh0dHBzOi8vYXBwLm5lcHR1bmUuYWkiLCJhcGlfdXJsIjoiaHR0cHM6Ly9hcHAubmVwdHVuZS5haSIsImFwaV9rZXkiOiI2ODM2YmQ5ZC1mOGNkLTQyNGEtOTA1NC1jZjZmOWUxOTVmOTMifQ==\",\n",
        ")\n",
        "\n",
        "params = {\"model_type\": \"word/byte\",\"epochs\":num_epochs,\"max_pad_size\":max_pad_size,\"batch_size\": batch_size ,\"embed_dim\": embed_dim,\"channels\":str(channels[0])+\",\"+str(channels[1]) ,\"learning_rate\": lr, \"optimizer\": \"Adam\", \"criterion\": \"MSE\"}\n",
        "run[\"parameters\"] = params\n",
        "\n",
        "\n",
        "model = SiameseNetwork(word_size,max_pad_size,embed_dim, channels).to(device)\n",
        "optimizer = torch.optim.Adam(model.parameters(),lr=lr)\n",
        "\n",
        "start_time = time.time()\n",
        "run_training(model,train_dataloader,val_dataloader,optimizer,criterion, num_epochs)\n",
        "train_time = time.time() - start_time\n",
        "run[\"train/time\"].append(train_time)\n",
        "\n",
        "run_test(model,test_dataloader,criterion)\n",
        "run.stop()"
      ]
    },
    {
      "cell_type": "markdown",
      "metadata": {},
      "source": [
        "**The best results we got:**\n",
        "\n",
        "In experiment EX.14, we employed a word/byte-pair level Siamese model optimized by Adam with a learning rate of 0.0001. A batch size of 64 and a padding size capped at 128 were chosen to strike a balance between computational demand and input detail retention. Our architecture, set with an embedding dimension of 50 and convolutional channels of 16 and 32, resulted in a runtime of roughly 49.9 seconds. Performance metrics were commendable with a train RMSE of 0.517 and MAE of 0.423. For validation, the model achieved an RMSE of 0.533 and an MAE of 0.436, while the test set saw an RMSE of 0.539 and an MAE of 0.442, indicating consistent and reliable predictions across training and unseen data.\n",
        "\n",
        "In the graphs below you can see the performance as the epochs progress."
      ]
    },
    {
      "attachments": {
        "image-2.png": {
          "image/png": "[encoded data removed]"
        },
        "image.png": {
          "image/png": "[encoded data removed]"
        }
      },
      "cell_type": "markdown",
      "metadata": {},
      "source": [
        "![image.png](attachment:image.png)\n",
        "![image-2.png](attachment:image-2.png)"
      ]
    },
    {
      "cell_type": "markdown",
      "metadata": {},
      "source": [
        "### **Results and conclusions**"
      ]
    },
    {
      "cell_type": "markdown",
      "metadata": {},
      "source": [
        "**Insights from Word/Byte-Pair Embedding Experiments:**\n",
        "\n",
        "- **Learning Rate Insights**: Lower learning rates (0.0001) were pivotal in enhancing model accuracy, as shown by the reduced RMSE and MAE values across the board, signifying the advantage of cautious learning steps.\n",
        "\n",
        "- **Batch Size and Epochs**: Experiment EX.14, with a batch size of 64 over 10 epochs, demonstrated the effectiveness of moderate batch sizes coupled with a sufficient number of epochs to optimize the model without overfitting.\n",
        "\n",
        "- **Padding Adjustments**: Altering the padding size to 128 in EX.14 suggested an improved trade-off between capturing sufficient sequence context and computational efficiency, achieving comparable accuracy while curtailing the runtime.\n",
        "\n",
        "- **Stability and Overfitting**: Stability in performance metrics, despite various adjustments, indicated a need for further methods to mitigate overfitting, as observed from volatile validation losses.\n",
        "\n",
        "**Final Considerations:**\n",
        "EX.14 emerged as the standout configuration, balancing training efficiency with predictive accuracy. This model's architecture, combined with optimized hyperparameters, presents a solid foundation for future exploration, potentially involving early stopping, advanced regularization, and alternate neural architectures like LSTM to further enhance performance. It embodies a significant advancement over the baseline, emphasizing our commitment to evolve our understanding of the dataset and model intricacies."
      ]
    },
    {
      "attachments": {
        "image.png": {
          "image/png": "[encoded data removed]"
        }
      },
      "cell_type": "markdown",
      "metadata": {},
      "source": [
        "**Results of the experiments**\n",
        "\n",
        "![image.png](attachment:image.png)"
      ]
    },
    {
      "cell_type": "markdown",
      "metadata": {},
      "source": [
        "**Possible improvements:**\n",
        "\n",
        "- Neither of the experiments proved helpful, providing a signifcant way to combat the overfitting.\n",
        "- Other ways to explore can be:\n",
        "    - using data augmentations like masking\n",
        "    - play more with the padding sizes, or different techniques\n",
        "    - other regularization techniques like l2\n",
        "    - instead of learning the embedding ourselves, use word2vec or something similar.\n",
        "    - early stopping, because the validation seems to be very volatile.\n",
        "    - change of architecture, for example trying LSTM instead of CNN.\n",
        "    - Different validation technique, seems like k-fold would be more usefull here.\n",
        "    - Different criterion and similarity measures."
      ]
    },
    {
      "cell_type": "markdown",
      "metadata": {
        "id": "h8ydU13zfFSg"
      },
      "source": [
        "### **2.d. - Word/byte - Final Model & BERT Embedding(Bonus section)**\n",
        "We will use the final model described in the previous section.\n",
        "\n",
        "BERT:\n",
        "- Bert requires specific tokenization so we cannot use what we used.\n",
        "- We will keep padding max length at 128.\n",
        "\n",
        "Specifics:\n",
        "- Same validation technique(split p=0.2)\n",
        "- Bert provides embeddings of size 768, so input in the network must be changed accordingly.\n",
        "- There's no need for the embedding layer since we use BERT.\n"
      ]
    },
    {
      "cell_type": "code",
      "execution_count": null,
      "metadata": {
        "execution": {
          "iopub.execute_input": "2024-03-14T19:43:11.810884Z",
          "iopub.status.busy": "2024-03-14T19:43:11.809890Z",
          "iopub.status.idle": "2024-03-14T19:43:12.570563Z",
          "shell.execute_reply": "2024-03-14T19:43:12.569344Z",
          "shell.execute_reply.started": "2024-03-14T19:43:11.810839Z"
        },
        "id": "0PpbXVQrfFSg",
        "trusted": true
      },
      "outputs": [],
      "source": [
        "from transformers import BertTokenizer, BertModel\n",
        "import torch\n",
        "\n",
        "# Setup\n",
        "device = torch.device(\"cuda\" if torch.cuda.is_available() else \"cpu\")\n",
        "tokenizer = BertTokenizer.from_pretrained('bert-base-uncased')\n",
        "model = BertModel.from_pretrained('bert-base-uncased').to(device)\n",
        "model.eval()\n",
        "\n",
        "def extract_embeddings(texts):\n",
        "    # Tokenize and prepare for BERT\n",
        "    encoded_batch = tokenizer.batch_encode_plus(texts, padding=True, truncation=True, max_length=128, return_tensors=\"pt\").to(device)\n",
        "\n",
        "    # Extract embeddings\n",
        "    with torch.no_grad():\n",
        "        outputs = model(**encoded_batch)\n",
        "        embeddings = outputs.pooler_output\n",
        "\n",
        "    return embeddings.cpu()\n"
      ]
    },
    {
      "cell_type": "code",
      "execution_count": null,
      "metadata": {
        "execution": {
          "iopub.execute_input": "2024-03-14T19:43:26.640123Z",
          "iopub.status.busy": "2024-03-14T19:43:26.639407Z",
          "iopub.status.idle": "2024-03-14T19:43:26.647981Z",
          "shell.execute_reply": "2024-03-14T19:43:26.646904Z",
          "shell.execute_reply.started": "2024-03-14T19:43:26.640090Z"
        },
        "id": "XS3qp0dLfFSg",
        "trusted": true
      },
      "outputs": [],
      "source": [
        "from tqdm import tqdm\n",
        "\n",
        "def get_bert_embeddings(df, batch_size):\n",
        "    search_term_embeddings = []\n",
        "    product_description_embeddings = []\n",
        "\n",
        "    # Prepare tqdm to show the progress over the total number of batches\n",
        "    total_batches = len(df) // batch_size + (1 if len(df) % batch_size else 0)\n",
        "    progress_bar = tqdm(range(total_batches), desc='Processing')\n",
        "\n",
        "    for i in progress_bar:\n",
        "        start_idx = i * batch_size\n",
        "        end_idx = start_idx + batch_size\n",
        "\n",
        "        # Process search terms\n",
        "        batch_texts = df['search_term'].iloc[start_idx:end_idx].tolist()\n",
        "        embeddings = extract_embeddings(batch_texts)\n",
        "        search_term_embeddings.append(embeddings)\n",
        "\n",
        "        # Process product descriptions\n",
        "        batch_texts = df['product_description'].iloc[start_idx:end_idx].tolist()\n",
        "        embeddings = extract_embeddings(batch_texts)\n",
        "        product_description_embeddings.append(embeddings)\n",
        "\n",
        "    # Concatenate all batched embeddings\n",
        "    search_term_embeddings = torch.cat(search_term_embeddings, dim=0)\n",
        "    product_description_embeddings = torch.cat(product_description_embeddings, dim=0)\n",
        "\n",
        "    return search_term_embeddings, product_description_embeddings"
      ]
    },
    {
      "cell_type": "code",
      "execution_count": null,
      "metadata": {
        "execution": {
          "iopub.execute_input": "2024-03-14T19:43:33.250281Z",
          "iopub.status.busy": "2024-03-14T19:43:33.249886Z",
          "iopub.status.idle": "2024-03-14T20:15:25.213636Z",
          "shell.execute_reply": "2024-03-14T20:15:25.212552Z",
          "shell.execute_reply.started": "2024-03-14T19:43:33.250239Z"
        },
        "id": "sU4U63UPfFSh",
        "outputId": "e9f67a3b-b943-4fe7-c940-7e8c5e89d60d",
        "trusted": true
      },
      "outputs": [
        {
          "name": "stderr",
          "output_type": "stream",
          "text": [
            "Processing: 100%|██████████| 1158/1158 [12:35<00:00,  1.53it/s]\n",
            "Processing: 100%|██████████| 1752/1752 [19:14<00:00,  1.52it/s]\n"
          ]
        }
      ],
      "source": [
        "batch_size = 64\n",
        "train_bert,test_bert = load_data()\n",
        "\n",
        "train_search_term_embeddings, train_product_description_embeddings = get_bert_embeddings(train_bert,batch_size)\n",
        "test_search_term_embeddings, test_product_description_embeddings = get_bert_embeddings(test_bert,batch_size)"
      ]
    },
    {
      "cell_type": "code",
      "execution_count": null,
      "metadata": {
        "execution": {
          "iopub.execute_input": "2024-03-14T20:15:25.216587Z",
          "iopub.status.busy": "2024-03-14T20:15:25.216290Z",
          "iopub.status.idle": "2024-03-14T20:15:25.346107Z",
          "shell.execute_reply": "2024-03-14T20:15:25.345104Z",
          "shell.execute_reply.started": "2024-03-14T20:15:25.216562Z"
        },
        "id": "mIzQLqZSfFSh",
        "trusted": true
      },
      "outputs": [],
      "source": [
        "from sklearn.model_selection import train_test_split\n",
        "\n",
        "labels = torch.tensor(train_bert['relevance'].values).float()\n",
        "\n",
        "# Split the embeddings and labels into training and validation sets\n",
        "search_term_train, search_term_val, product_description_train, product_description_val, labels_train, labels_val = train_test_split(\n",
        "    train_search_term_embeddings, train_product_description_embeddings, labels, test_size=0.2, random_state=42)\n"
      ]
    },
    {
      "cell_type": "markdown",
      "metadata": {
        "id": "Eo-h298ZfFSi"
      },
      "source": [
        " Training and Test loops are the same as previous section, copy pasted for comfort."
      ]
    },
    {
      "cell_type": "code",
      "execution_count": null,
      "metadata": {
        "execution": {
          "iopub.execute_input": "2024-03-14T20:15:25.381065Z",
          "iopub.status.busy": "2024-03-14T20:15:25.380795Z",
          "iopub.status.idle": "2024-03-14T20:15:25.396215Z",
          "shell.execute_reply": "2024-03-14T20:15:25.395102Z",
          "shell.execute_reply.started": "2024-03-14T20:15:25.381041Z"
        },
        "id": "5r0S9ofhfFSk",
        "trusted": true
      },
      "outputs": [],
      "source": [
        "def run_training(model,train_loader,val_loader,optimizer,criterion,num_epochs):\n",
        "    for epoch in range(num_epochs):\n",
        "        model.train()\n",
        "        total_loss = 0\n",
        "        train_y_pred = []\n",
        "        train_y_true = []\n",
        "\n",
        "        for X_search_batch, X_des_batch, y_batch in train_loader:\n",
        "            X_search_batch, X_des_batch, y_batch = X_search_batch.to(device), X_des_batch.to(device), y_batch.to(device)\n",
        "            optimizer.zero_grad()\n",
        "            outputs = model(X_search_batch, X_des_batch)\n",
        "            loss = criterion(outputs, y_batch.unsqueeze(1))\n",
        "            loss.backward()\n",
        "            optimizer.step()\n",
        "            total_loss += loss.item() * X_search_batch.size(0)\n",
        "\n",
        "            # Collect for metrics calculation\n",
        "            train_y_pred.append(outputs.detach())\n",
        "            train_y_true.append(y_batch.detach())\n",
        "\n",
        "        # Concatenate all batches for metrics calculation\n",
        "        train_y_pred = torch.cat(train_y_pred).view(-1)\n",
        "        train_y_true = torch.cat(train_y_true).view(-1)\n",
        "\n",
        "        # Calculate RMSE and MAE for training\n",
        "        train_rmse = torch.sqrt(torch.mean((train_y_true - train_y_pred) ** 2))\n",
        "        train_mae = torch.mean(torch.abs(train_y_true - train_y_pred))\n",
        "        run[\"train/loss\"].append(total_loss / len(train_loader.dataset))\n",
        "        run[\"train/RMSE\"].append(train_rmse.item())\n",
        "        run[\"train/MAE\"].append(train_mae.item())\n",
        "        print(f'Epoch {epoch+1}, Loss: {total_loss / len(train_loader.dataset)}, Train RMSE: {train_rmse.item()}, Train MAE: {train_mae.item()}')\n",
        "\n",
        "        # Validation phase\n",
        "        model.eval()\n",
        "        total_val_loss = 0\n",
        "        val_y_pred = []\n",
        "        val_y_true = []\n",
        "\n",
        "        with torch.no_grad():\n",
        "            for X_search_batch, X_des_batch, y_batch in val_loader:\n",
        "                X_search_batch, X_des_batch, y_batch = X_search_batch.to(device), X_des_batch.to(device), y_batch.to(device)\n",
        "                outputs = model(X_search_batch, X_des_batch)\n",
        "                val_loss = criterion(outputs, y_batch.unsqueeze(1))\n",
        "                total_val_loss += val_loss.item() * X_search_batch.size(0)\n",
        "\n",
        "                # Collect for metrics calculation\n",
        "                val_y_pred.append(outputs.detach())\n",
        "                val_y_true.append(y_batch.detach())\n",
        "\n",
        "        # Concatenate all batches for metrics calculation\n",
        "        val_y_pred = torch.cat(val_y_pred).view(-1)\n",
        "        val_y_true = torch.cat(val_y_true).view(-1)\n",
        "\n",
        "        # Calculate RMSE and MAE for validation\n",
        "        val_rmse = torch.sqrt(torch.mean((val_y_true - val_y_pred) ** 2))\n",
        "        val_mae = torch.mean(torch.abs(val_y_true - val_y_pred))\n",
        "        run[\"val/loss\"].append(total_val_loss / len(val_loader.dataset))\n",
        "        run[\"val/RMSE\"].append(val_rmse.item())\n",
        "        run[\"val/MAE\"].append(val_mae.item())\n",
        "        print(f'Validation Loss: {total_val_loss / len(val_loader.dataset)}, Val RMSE: {val_rmse.item()}, Val MAE: {val_mae.item()}\\n')"
      ]
    },
    {
      "cell_type": "code",
      "execution_count": null,
      "metadata": {
        "execution": {
          "iopub.execute_input": "2024-03-14T20:15:25.397582Z",
          "iopub.status.busy": "2024-03-14T20:15:25.397321Z",
          "iopub.status.idle": "2024-03-14T20:15:25.411770Z",
          "shell.execute_reply": "2024-03-14T20:15:25.410829Z",
          "shell.execute_reply.started": "2024-03-14T20:15:25.397558Z"
        },
        "id": "x7rQjUKjfFSk",
        "trusted": true
      },
      "outputs": [],
      "source": [
        "def run_test(model,test_loader,criterion):\n",
        "    model.eval()\n",
        "    total_test_loss = 0\n",
        "    test_y_pred = []\n",
        "    test_y_true = []\n",
        "\n",
        "    with torch.no_grad():\n",
        "        for X_search_batch, X_des_batch, y_batch in test_loader:\n",
        "            X_search_batch, X_des_batch, y_batch = X_search_batch.to(device), X_des_batch.to(device), y_batch.to(device)\n",
        "            outputs = model(X_search_batch, X_des_batch)\n",
        "            test_loss = criterion(outputs, y_batch.unsqueeze(1))\n",
        "            total_test_loss += test_loss.item() * X_search_batch.size(0)\n",
        "\n",
        "            # Collect for metrics calculation\n",
        "            test_y_pred.append(outputs.detach())\n",
        "            test_y_true.append(y_batch.detach())\n",
        "\n",
        "    # Concatenate all batches for metrics calculation\n",
        "    test_y_pred = torch.cat(test_y_pred).view(-1)\n",
        "    test_y_true = torch.cat(test_y_true).view(-1)\n",
        "\n",
        "    # Calculate RMSE and MAE for test\n",
        "    test_rmse = torch.sqrt(torch.mean((test_y_true - test_y_pred) ** 2))\n",
        "    test_mae = torch.mean(torch.abs(test_y_true - test_y_pred))\n",
        "    run[\"test/loss\"].append(total_test_loss / len(test_loader.dataset))\n",
        "    run[\"test/RMSE\"].append(test_rmse.item())\n",
        "    run[\"test/MAE\"].append(test_mae.item())\n",
        "    print(f'Test Loss: {total_test_loss / len(test_loader.dataset)}, test RMSE: {test_rmse.item()}, test MAE: {test_mae.item()}\\n')"
      ]
    },
    {
      "cell_type": "code",
      "execution_count": null,
      "metadata": {
        "execution": {
          "iopub.execute_input": "2024-03-14T20:15:25.413457Z",
          "iopub.status.busy": "2024-03-14T20:15:25.413088Z",
          "iopub.status.idle": "2024-03-14T20:15:25.426619Z",
          "shell.execute_reply": "2024-03-14T20:15:25.425696Z",
          "shell.execute_reply.started": "2024-03-14T20:15:25.413431Z"
        },
        "id": "VtPp2WRofFSl",
        "trusted": true
      },
      "outputs": [],
      "source": [
        "import torch.nn as nn\n",
        "import torch.nn.functional as F\n",
        "\n",
        "class SiameseNetworkBERT(nn.Module):\n",
        "    def __init__(self):\n",
        "        super(SiameseNetworkBERT, self).__init__()\n",
        "        #  BERT embeddings of size 768\n",
        "        self.conv1 = nn.Conv1d(in_channels=1, out_channels=16, kernel_size=3, padding=1)\n",
        "        self.pool = nn.MaxPool1d(kernel_size=2)\n",
        "        self.conv2 = nn.Conv1d(in_channels=16, out_channels=32, kernel_size=3, padding=1)\n",
        "        # Adjust the size accordingly if your architecture changes\n",
        "        self.dense = nn.Linear(192*32, 64)  #192=768 after two max pools, 32=channels\n",
        "\n",
        "    def forward_once(self, x):\n",
        "        \"\"\"Process an input through the network's layers.\"\"\"\n",
        "        x = x.unsqueeze(1)  # Add a channel dimension: [batch_size, 1, embedding_size]\n",
        "        x = x.float()\n",
        "        x = F.relu(self.conv1(x))\n",
        "        x = self.pool(x)\n",
        "        x = F.relu(self.conv2(x))\n",
        "        x = self.pool(x)\n",
        "        x = torch.flatten(x, start_dim=1)\n",
        "        x = F.relu(self.dense(x))\n",
        "        return x\n",
        "\n",
        "    def forward(self, input1, input2):\n",
        "        output1 = self.forward_once(input1)\n",
        "        output2 = self.forward_once(input2)\n",
        "\n",
        "        similarity = torch.sum(output1 * output2, dim=1, keepdim=True)\n",
        "        similarity = 3 * similarity\n",
        "        return similarity\n"
      ]
    },
    {
      "cell_type": "code",
      "execution_count": null,
      "metadata": {
        "execution": {
          "iopub.execute_input": "2024-03-14T20:25:55.756489Z",
          "iopub.status.busy": "2024-03-14T20:25:55.755729Z",
          "iopub.status.idle": "2024-03-14T20:25:55.761230Z",
          "shell.execute_reply": "2024-03-14T20:25:55.760060Z",
          "shell.execute_reply.started": "2024-03-14T20:25:55.756455Z"
        },
        "id": "LuclNjJofFSl",
        "trusted": true
      },
      "outputs": [],
      "source": [
        "criterion = nn.MSELoss()\n",
        "lr=0.0002\n",
        "batch_size = 32\n",
        "num_epochs = 20"
      ]
    },
    {
      "cell_type": "code",
      "execution_count": null,
      "metadata": {
        "execution": {
          "iopub.execute_input": "2024-03-14T20:25:57.023656Z",
          "iopub.status.busy": "2024-03-14T20:25:57.023283Z",
          "iopub.status.idle": "2024-03-14T20:25:57.030850Z",
          "shell.execute_reply": "2024-03-14T20:25:57.029859Z",
          "shell.execute_reply.started": "2024-03-14T20:25:57.023624Z"
        },
        "id": "zr_pEaW_fFSl",
        "trusted": true
      },
      "outputs": [],
      "source": [
        "from torch.utils.data import TensorDataset\n",
        "from torch.utils.data import DataLoader\n",
        "\n",
        "# Create dataloaders for train,val,test.\n",
        "train_dataset = TensorDataset(search_term_train, product_description_train, labels_train)\n",
        "train_dataloader = DataLoader(train_dataset, batch_size=batch_size, shuffle=True)\n",
        "\n",
        "val_dataset = TensorDataset(search_term_val, product_description_val, labels_val)\n",
        "val_dataloader = DataLoader(val_dataset, batch_size=batch_size, shuffle=False)\n",
        "\n",
        "test_labels = torch.tensor(test_bert['relevance'].values).float()\n",
        "test_dataset = TensorDataset(test_search_term_embeddings, test_product_description_embeddings, test_labels)\n",
        "test_dataloader = DataLoader(test_dataset, batch_size=batch_size, shuffle=False)"
      ]
    },
    {
      "cell_type": "code",
      "execution_count": null,
      "metadata": {
        "execution": {
          "iopub.execute_input": "2024-03-14T20:26:00.224371Z",
          "iopub.status.busy": "2024-03-14T20:26:00.223430Z",
          "iopub.status.idle": "2024-03-14T20:28:39.839694Z",
          "shell.execute_reply": "2024-03-14T20:28:39.838794Z",
          "shell.execute_reply.started": "2024-03-14T20:26:00.224336Z"
        },
        "id": "ShZDqXpQfFSl",
        "outputId": "7da71464-d956-472b-e6ae-8df75ee57050",
        "trusted": true
      },
      "outputs": [
        {
          "name": "stdout",
          "output_type": "stream",
          "text": [
            "[neptune] [info   ] Neptune initialized. Open in the app: https://app.neptune.ai/rovo/dl-workshop-3/e/DLWOR-63\n",
            "Epoch 1, Loss: 0.42417039238311927, Train RMSE: 0.6512836217880249, Train MAE: 0.48378121852874756\n",
            "Validation Loss: 0.28342019213131925, Val RMSE: 0.532372236251831, Val MAE: 0.4318370819091797\n",
            "\n",
            "Epoch 2, Loss: 0.29627425186708867, Train RMSE: 0.5443107485771179, Train MAE: 0.446419358253479\n",
            "Validation Loss: 0.2756949098278061, Val RMSE: 0.525066614151001, Val MAE: 0.42910048365592957\n",
            "\n",
            "Epoch 3, Loss: 0.2910340022530662, Train RMSE: 0.539475679397583, Train MAE: 0.44255584478378296\n",
            "Validation Loss: 0.28013936001407613, Val RMSE: 0.5292819142341614, Val MAE: 0.43858325481414795\n",
            "\n",
            "Epoch 4, Loss: 0.28924483064206674, Train RMSE: 0.5378148555755615, Train MAE: 0.44104430079460144\n",
            "Validation Loss: 0.27600429281823724, Val RMSE: 0.5253611207008362, Val MAE: 0.4328259527683258\n",
            "\n",
            "Epoch 5, Loss: 0.28410401672364777, Train RMSE: 0.5330141186714172, Train MAE: 0.4370926320552826\n",
            "Validation Loss: 0.2919645775936869, Val RMSE: 0.5403375029563904, Val MAE: 0.43149349093437195\n",
            "\n",
            "Epoch 6, Loss: 0.28089860340172723, Train RMSE: 0.5299986600875854, Train MAE: 0.4349561333656311\n",
            "Validation Loss: 0.27431877998304993, Val RMSE: 0.5237545371055603, Val MAE: 0.43055179715156555\n",
            "\n",
            "Epoch 7, Loss: 0.28181358088827846, Train RMSE: 0.5308611989021301, Train MAE: 0.4355873465538025\n",
            "Validation Loss: 0.27703526131662903, Val RMSE: 0.5263413786888123, Val MAE: 0.43598276376724243\n",
            "\n",
            "Epoch 8, Loss: 0.27954043752618646, Train RMSE: 0.5287158489227295, Train MAE: 0.4338633120059967\n",
            "Validation Loss: 0.27426901690845984, Val RMSE: 0.5237069725990295, Val MAE: 0.42568859457969666\n",
            "\n",
            "Epoch 9, Loss: 0.2782032835682324, Train RMSE: 0.5274497866630554, Train MAE: 0.4323376715183258\n",
            "Validation Loss: 0.2749774332863769, Val RMSE: 0.5243828892707825, Val MAE: 0.433072566986084\n",
            "\n",
            "Epoch 10, Loss: 0.27770740743756983, Train RMSE: 0.5269794464111328, Train MAE: 0.43208491802215576\n",
            "Validation Loss: 0.2795542842027419, Val RMSE: 0.5287289619445801, Val MAE: 0.42650336027145386\n",
            "\n",
            "Epoch 11, Loss: 0.277249356891496, Train RMSE: 0.5265446901321411, Train MAE: 0.4316479563713074\n",
            "Validation Loss: 0.27161786896876355, Val RMSE: 0.5211697220802307, Val MAE: 0.42492854595184326\n",
            "\n",
            "Epoch 12, Loss: 0.2762195555585939, Train RMSE: 0.5255659222602844, Train MAE: 0.4310908913612366\n",
            "Validation Loss: 0.2777501671069931, Val RMSE: 0.5270200967788696, Val MAE: 0.424461305141449\n",
            "\n",
            "Epoch 13, Loss: 0.2737647069014954, Train RMSE: 0.5232253074645996, Train MAE: 0.42911696434020996\n",
            "Validation Loss: 0.2801225893134061, Val RMSE: 0.5292660593986511, Val MAE: 0.44182178378105164\n",
            "\n",
            "Epoch 14, Loss: 0.27377886688954906, Train RMSE: 0.5232388377189636, Train MAE: 0.42864108085632324\n",
            "Validation Loss: 0.2710593198275814, Val RMSE: 0.5206335783004761, Val MAE: 0.4242490530014038\n",
            "\n",
            "Epoch 15, Loss: 0.27288050315558066, Train RMSE: 0.5223796367645264, Train MAE: 0.4278593063354492\n",
            "Validation Loss: 0.27362911813378543, Val RMSE: 0.5230957269668579, Val MAE: 0.4226553440093994\n",
            "\n",
            "Epoch 16, Loss: 0.27222385044488445, Train RMSE: 0.5217507481575012, Train MAE: 0.427891343832016\n",
            "Validation Loss: 0.2839465620781031, Val RMSE: 0.532866358757019, Val MAE: 0.42481890320777893\n",
            "\n",
            "Epoch 17, Loss: 0.27054577023824505, Train RMSE: 0.5201401114463806, Train MAE: 0.4261021018028259\n",
            "Validation Loss: 0.3011768361113727, Val RMSE: 0.5487958192825317, Val MAE: 0.4636945426464081\n",
            "\n",
            "Epoch 18, Loss: 0.27081140841815754, Train RMSE: 0.5203954577445984, Train MAE: 0.4263441264629364\n",
            "Validation Loss: 0.28573042388079506, Val RMSE: 0.5345376133918762, Val MAE: 0.44865739345550537\n",
            "\n",
            "Epoch 19, Loss: 0.2690070869248541, Train RMSE: 0.5186588764190674, Train MAE: 0.4248787462711334\n",
            "Validation Loss: 0.272397871639575, Val RMSE: 0.5219175219535828, Val MAE: 0.4328674376010895\n",
            "\n",
            "Epoch 20, Loss: 0.2694877266004663, Train RMSE: 0.5191220641136169, Train MAE: 0.42546069622039795\n",
            "Validation Loss: 0.29890283291013486, Val RMSE: 0.5467200875282288, Val MAE: 0.4291589856147766\n",
            "\n",
            "Test Loss: 0.31114723714379355, test RMSE: 0.5578057169914246, test MAE: 0.4373784363269806\n",
            "\n",
            "[neptune] [info   ] Shutting down background jobs, please wait a moment...\n",
            "[neptune] [info   ] Done!\n",
            "[neptune] [info   ] Waiting for the remaining 3 operations to synchronize with Neptune. Do not kill this process.\n",
            "[neptune] [info   ] All 3 operations synced, thanks for waiting!\n",
            "[neptune] [info   ] Explore the metadata in the Neptune app: https://app.neptune.ai/rovo/dl-workshop-3/e/DLWOR-63/metadata\n"
          ]
        }
      ],
      "source": [
        "import neptune\n",
        "import time\n",
        "\n",
        "run = neptune.init_run(\n",
        "    project=\"rovo/dl-workshop-3\",\n",
        "    api_token=\"eyJhcGlfYWRkcmVzcyI6Imh0dHBzOi8vYXBwLm5lcHR1bmUuYWkiLCJhcGlfdXJsIjoiaHR0cHM6Ly9hcHAubmVwdHVuZS5haSIsImFwaV9rZXkiOiI2ODM2YmQ5ZC1mOGNkLTQyNGEtOTA1NC1jZjZmOWUxOTVmOTMifQ==\",\n",
        ")\n",
        "\n",
        "params = {\"model_type\": \"word/byte-BERT\",\"epochs\":num_epochs,\"max_pad_size\":128,\"batch_size\": batch_size ,\"embed_dim\": 768,\"channels\":str(channels[0])+\",\"+str(channels[1]) ,\"learning_rate\": lr, \"optimizer\": \"Adam\", \"criterion\": \"MSE\"}\n",
        "run[\"parameters\"] = params\n",
        "\n",
        "\n",
        "model = SiameseNetworkBERT().to(device)\n",
        "optimizer = torch.optim.Adam(model.parameters(),lr=lr)\n",
        "\n",
        "start_time = time.time()\n",
        "run_training(model,train_dataloader,val_dataloader,optimizer,criterion, num_epochs)\n",
        "train_time = time.time() - start_time\n",
        "run[\"train/time\"].append(train_time)\n",
        "\n",
        "run_test(model,test_dataloader,criterion)\n",
        "run.stop()"
      ]
    },
    {
      "attachments": {
        "image-2.png": {
          "image/png": "[encoded data removed]"
        },
        "image.png": {
          "image/png": "[encoded data removed]"
        }
      },
      "cell_type": "markdown",
      "metadata": {},
      "source": [
        "![image.png](attachment:image.png)\n",
        "![image-2.png](attachment:image-2.png)"
      ]
    },
    {
      "cell_type": "markdown",
      "metadata": {
        "id": "pkUPO89qfFSm"
      },
      "source": [
        "### **Results & Experiments**\n",
        "1. with the base final hyperparameters, batchsize=64,lr=0.0001,epochs = 10\n",
        "   - Small improvment but not significant( ~0.1 less on all metrics).\n",
        "   - validation going up and down, training deacreses in a stable way.\n",
        "   - there is a downward trend though, more epochs needed to understand\n",
        "2. batchsize=64,lr=0.0001,epochs = 20\n",
        "   - there is still a trend downward, but validaion does not improve.\n",
        "3. batchsize=32,lr=0.0002,epochs = 20\n",
        "   - all metrics increased by about 0.2.\n",
        "   - validation is more stable, but still does not improve\n",
        "   \n",
        "EX.16 had the best metrics(DLWOR-60)"
      ]
    },
    {
      "attachments": {
        "image.png": {
          "image/png": "[encoded data removed]"
        }
      },
      "cell_type": "markdown",
      "metadata": {},
      "source": [
        "![image.png](attachment:image.png)"
      ]
    },
    {
      "attachments": {
        "image.png": {
          "image/png": "[encoded data removed]"
        }
      },
      "cell_type": "markdown",
      "metadata": {},
      "source": [
        "## **Table of all experiments**\n",
        "![image.png](attachment:image.png)"
      ]
    }
  ],
  "metadata": {
    "accelerator": "GPU",
    "colab": {
      "gpuType": "T4",
      "provenance": []
    },
    "kaggle": {
      "accelerator": "gpu",
      "dataSources": [
        {
          "datasetId": 4566774,
          "sourceId": 7799637,
          "sourceType": "datasetVersion"
        }
      ],
      "dockerImageVersionId": 30664,
      "isGpuEnabled": true,
      "isInternetEnabled": true,
      "language": "python",
      "sourceType": "notebook"
    },
    "kernelspec": {
      "display_name": "Python 3",
      "name": "python3"
    },
    "language_info": {
      "codemirror_mode": {
        "name": "ipython",
        "version": 3
      },
      "file_extension": ".py",
      "mimetype": "text/x-python",
      "name": "python",
      "nbconvert_exporter": "python",
      "pygments_lexer": "ipython3",
      "version": "3.10.11"
    }
  },
  "nbformat": 4,
  "nbformat_minor": 0
}
